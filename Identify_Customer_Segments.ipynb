{
 "cells": [
  {
   "cell_type": "markdown",
   "metadata": {},
   "source": [
    "# Project: Identify Customer Segments\n",
    "\n",
    "In this project, you will apply unsupervised learning techniques to identify segments of the population that form the core customer base for a mail-order sales company in Germany. These segments can then be used to direct marketing campaigns towards audiences that will have the highest expected rate of returns. The data that you will use has been provided by our partners at Bertelsmann Arvato Analytics, and represents a real-life data science task.\n",
    "\n",
    "This notebook will help you complete this task by providing a framework within which you will perform your analysis steps. In each step of the project, you will see some text describing the subtask that you will perform, followed by one or more code cells for you to complete your work. **Feel free to add additional code and markdown cells as you go along so that you can explore everything in precise chunks.** The code cells provided in the base template will outline only the major tasks, and will usually not be enough to cover all of the minor tasks that comprise it.\n",
    "\n",
    "It should be noted that while there will be precise guidelines on how you should handle certain tasks in the project, there will also be places where an exact specification is not provided. **There will be times in the project where you will need to make and justify your own decisions on how to treat the data.** These are places where there may not be only one way to handle the data. In real-life tasks, there may be many valid ways to approach an analysis task. One of the most important things you can do is clearly document your approach so that other scientists can understand the decisions you've made.\n",
    "\n",
    "At the end of most sections, there will be a Markdown cell labeled **Discussion**. In these cells, you will report your findings for the completed section, as well as document the decisions that you made in your approach to each subtask. **Your project will be evaluated not just on the code used to complete the tasks outlined, but also your communication about your observations and conclusions at each stage.**"
   ]
  },
  {
   "cell_type": "code",
   "execution_count": 1,
   "metadata": {},
   "outputs": [
    {
     "data": {
      "text/plain": [
       "'\\nImport note: The classroom currently uses sklearn version 0.19.\\nIf you need to use an imputer, it is available in sklearn.preprocessing.Imputer,\\ninstead of sklearn.impute as in newer versions of sklearn.\\n'"
      ]
     },
     "execution_count": 1,
     "metadata": {},
     "output_type": "execute_result"
    }
   ],
   "source": [
    "# import libraries here; add more as necessary\n",
    "import numpy as np\n",
    "import pandas as pd\n",
    "import matplotlib.pyplot as plt\n",
    "import seaborn as sns\n",
    "from sklearn.preprocessing import StandardScaler\n",
    "from sklearn.decomposition import PCA\n",
    "from sklearn.cluster import KMeans\n",
    "\n",
    "\n",
    "# magic word for producing visualizations in notebook\n",
    "%matplotlib inline\n",
    "\n",
    "'''\n",
    "Import note: The classroom currently uses sklearn version 0.19.\n",
    "If you need to use an imputer, it is available in sklearn.preprocessing.Imputer,\n",
    "instead of sklearn.impute as in newer versions of sklearn.\n",
    "'''"
   ]
  },
  {
   "cell_type": "markdown",
   "metadata": {},
   "source": [
    "### Step 0: Load the Data\n",
    "\n",
    "There are four files associated with this project (not including this one):\n",
    "\n",
    "- `Udacity_AZDIAS_Subset.csv`: Demographics data for the general population of Germany; 891211 persons (rows) x 85 features (columns).\n",
    "- `Udacity_CUSTOMERS_Subset.csv`: Demographics data for customers of a mail-order company; 191652 persons (rows) x 85 features (columns).\n",
    "- `Data_Dictionary.md`: Detailed information file about the features in the provided datasets.\n",
    "- `AZDIAS_Feature_Summary.csv`: Summary of feature attributes for demographics data; 85 features (rows) x 4 columns\n",
    "\n",
    "Each row of the demographics files represents a single person, but also includes information outside of individuals, including information about their household, building, and neighborhood. You will use this information to cluster the general population into groups with similar demographic properties. Then, you will see how the people in the customers dataset fit into those created clusters. The hope here is that certain clusters are over-represented in the customers data, as compared to the general population; those over-represented clusters will be assumed to be part of the core userbase. This information can then be used for further applications, such as targeting for a marketing campaign.\n",
    "\n",
    "To start off with, load in the demographics data for the general population into a pandas DataFrame, and do the same for the feature attributes summary. Note for all of the `.csv` data files in this project: they're semicolon (`;`) delimited, so you'll need an additional argument in your [`read_csv()`](https://pandas.pydata.org/pandas-docs/stable/generated/pandas.read_csv.html) call to read in the data properly. Also, considering the size of the main dataset, it may take some time for it to load completely.\n",
    "\n",
    "Once the dataset is loaded, it's recommended that you take a little bit of time just browsing the general structure of the dataset and feature summary file. You'll be getting deep into the innards of the cleaning in the first major step of the project, so gaining some general familiarity can help you get your bearings."
   ]
  },
  {
   "cell_type": "code",
   "execution_count": 2,
   "metadata": {},
   "outputs": [],
   "source": [
    "# Load in the general demographics data.\n",
    "azdias = pd.read_csv('Udacity_AZDIAS_Subset.csv', sep = ';')\n",
    "\n",
    "# Load in the feature summary file.\n",
    "feat_info = pd.read_csv('AZDIAS_Feature_Summary.csv', sep = ';')"
   ]
  },
  {
   "cell_type": "code",
   "execution_count": 3,
   "metadata": {},
   "outputs": [
    {
     "name": "stdout",
     "output_type": "stream",
     "text": [
      "There are  891221 rows and  85 columns in the general population dataset\n"
     ]
    }
   ],
   "source": [
    "# Check the structure of the data after it's loaded (e.g. print the number of\n",
    "# rows and columns, print the first few rows).\n",
    "print('There are ', azdias.shape[0], 'rows and ', azdias.shape[1], 'columns in the general population dataset')\n"
   ]
  },
  {
   "cell_type": "code",
   "execution_count": 4,
   "metadata": {},
   "outputs": [
    {
     "data": {
      "text/html": [
       "<div>\n",
       "<style scoped>\n",
       "    .dataframe tbody tr th:only-of-type {\n",
       "        vertical-align: middle;\n",
       "    }\n",
       "\n",
       "    .dataframe tbody tr th {\n",
       "        vertical-align: top;\n",
       "    }\n",
       "\n",
       "    .dataframe thead th {\n",
       "        text-align: right;\n",
       "    }\n",
       "</style>\n",
       "<table border=\"1\" class=\"dataframe\">\n",
       "  <thead>\n",
       "    <tr style=\"text-align: right;\">\n",
       "      <th></th>\n",
       "      <th>AGER_TYP</th>\n",
       "      <th>ALTERSKATEGORIE_GROB</th>\n",
       "      <th>ANREDE_KZ</th>\n",
       "      <th>CJT_GESAMTTYP</th>\n",
       "      <th>FINANZ_MINIMALIST</th>\n",
       "      <th>FINANZ_SPARER</th>\n",
       "      <th>FINANZ_VORSORGER</th>\n",
       "      <th>FINANZ_ANLEGER</th>\n",
       "      <th>FINANZ_UNAUFFAELLIGER</th>\n",
       "      <th>FINANZ_HAUSBAUER</th>\n",
       "      <th>...</th>\n",
       "      <th>PLZ8_ANTG1</th>\n",
       "      <th>PLZ8_ANTG2</th>\n",
       "      <th>PLZ8_ANTG3</th>\n",
       "      <th>PLZ8_ANTG4</th>\n",
       "      <th>PLZ8_BAUMAX</th>\n",
       "      <th>PLZ8_HHZ</th>\n",
       "      <th>PLZ8_GBZ</th>\n",
       "      <th>ARBEIT</th>\n",
       "      <th>ORTSGR_KLS9</th>\n",
       "      <th>RELAT_AB</th>\n",
       "    </tr>\n",
       "  </thead>\n",
       "  <tbody>\n",
       "    <tr>\n",
       "      <th>0</th>\n",
       "      <td>-1</td>\n",
       "      <td>2</td>\n",
       "      <td>1</td>\n",
       "      <td>2.0</td>\n",
       "      <td>3</td>\n",
       "      <td>4</td>\n",
       "      <td>3</td>\n",
       "      <td>5</td>\n",
       "      <td>5</td>\n",
       "      <td>3</td>\n",
       "      <td>...</td>\n",
       "      <td>NaN</td>\n",
       "      <td>NaN</td>\n",
       "      <td>NaN</td>\n",
       "      <td>NaN</td>\n",
       "      <td>NaN</td>\n",
       "      <td>NaN</td>\n",
       "      <td>NaN</td>\n",
       "      <td>NaN</td>\n",
       "      <td>NaN</td>\n",
       "      <td>NaN</td>\n",
       "    </tr>\n",
       "    <tr>\n",
       "      <th>1</th>\n",
       "      <td>-1</td>\n",
       "      <td>1</td>\n",
       "      <td>2</td>\n",
       "      <td>5.0</td>\n",
       "      <td>1</td>\n",
       "      <td>5</td>\n",
       "      <td>2</td>\n",
       "      <td>5</td>\n",
       "      <td>4</td>\n",
       "      <td>5</td>\n",
       "      <td>...</td>\n",
       "      <td>2.0</td>\n",
       "      <td>3.0</td>\n",
       "      <td>2.0</td>\n",
       "      <td>1.0</td>\n",
       "      <td>1.0</td>\n",
       "      <td>5.0</td>\n",
       "      <td>4.0</td>\n",
       "      <td>3.0</td>\n",
       "      <td>5.0</td>\n",
       "      <td>4.0</td>\n",
       "    </tr>\n",
       "    <tr>\n",
       "      <th>2</th>\n",
       "      <td>-1</td>\n",
       "      <td>3</td>\n",
       "      <td>2</td>\n",
       "      <td>3.0</td>\n",
       "      <td>1</td>\n",
       "      <td>4</td>\n",
       "      <td>1</td>\n",
       "      <td>2</td>\n",
       "      <td>3</td>\n",
       "      <td>5</td>\n",
       "      <td>...</td>\n",
       "      <td>3.0</td>\n",
       "      <td>3.0</td>\n",
       "      <td>1.0</td>\n",
       "      <td>0.0</td>\n",
       "      <td>1.0</td>\n",
       "      <td>4.0</td>\n",
       "      <td>4.0</td>\n",
       "      <td>3.0</td>\n",
       "      <td>5.0</td>\n",
       "      <td>2.0</td>\n",
       "    </tr>\n",
       "  </tbody>\n",
       "</table>\n",
       "<p>3 rows × 85 columns</p>\n",
       "</div>"
      ],
      "text/plain": [
       "   AGER_TYP  ALTERSKATEGORIE_GROB  ANREDE_KZ  CJT_GESAMTTYP  \\\n",
       "0        -1                     2          1            2.0   \n",
       "1        -1                     1          2            5.0   \n",
       "2        -1                     3          2            3.0   \n",
       "\n",
       "   FINANZ_MINIMALIST  FINANZ_SPARER  FINANZ_VORSORGER  FINANZ_ANLEGER  \\\n",
       "0                  3              4                 3               5   \n",
       "1                  1              5                 2               5   \n",
       "2                  1              4                 1               2   \n",
       "\n",
       "   FINANZ_UNAUFFAELLIGER  FINANZ_HAUSBAUER    ...     PLZ8_ANTG1  PLZ8_ANTG2  \\\n",
       "0                      5                 3    ...            NaN         NaN   \n",
       "1                      4                 5    ...            2.0         3.0   \n",
       "2                      3                 5    ...            3.0         3.0   \n",
       "\n",
       "   PLZ8_ANTG3  PLZ8_ANTG4  PLZ8_BAUMAX  PLZ8_HHZ  PLZ8_GBZ  ARBEIT  \\\n",
       "0         NaN         NaN          NaN       NaN       NaN     NaN   \n",
       "1         2.0         1.0          1.0       5.0       4.0     3.0   \n",
       "2         1.0         0.0          1.0       4.0       4.0     3.0   \n",
       "\n",
       "   ORTSGR_KLS9  RELAT_AB  \n",
       "0          NaN       NaN  \n",
       "1          5.0       4.0  \n",
       "2          5.0       2.0  \n",
       "\n",
       "[3 rows x 85 columns]"
      ]
     },
     "execution_count": 4,
     "metadata": {},
     "output_type": "execute_result"
    }
   ],
   "source": [
    "azdias.head(n=3)"
   ]
  },
  {
   "cell_type": "code",
   "execution_count": 5,
   "metadata": {},
   "outputs": [
    {
     "name": "stdout",
     "output_type": "stream",
     "text": [
      "There are 85 rows and 4 columns in the feature summary dataset\n"
     ]
    }
   ],
   "source": [
    "print('There are', feat_info.shape[0], 'rows and', feat_info.shape[1], 'columns in the feature summary dataset')\n"
   ]
  },
  {
   "cell_type": "code",
   "execution_count": 6,
   "metadata": {},
   "outputs": [
    {
     "data": {
      "text/html": [
       "<div>\n",
       "<style scoped>\n",
       "    .dataframe tbody tr th:only-of-type {\n",
       "        vertical-align: middle;\n",
       "    }\n",
       "\n",
       "    .dataframe tbody tr th {\n",
       "        vertical-align: top;\n",
       "    }\n",
       "\n",
       "    .dataframe thead th {\n",
       "        text-align: right;\n",
       "    }\n",
       "</style>\n",
       "<table border=\"1\" class=\"dataframe\">\n",
       "  <thead>\n",
       "    <tr style=\"text-align: right;\">\n",
       "      <th></th>\n",
       "      <th>attribute</th>\n",
       "      <th>information_level</th>\n",
       "      <th>type</th>\n",
       "      <th>missing_or_unknown</th>\n",
       "    </tr>\n",
       "  </thead>\n",
       "  <tbody>\n",
       "    <tr>\n",
       "      <th>0</th>\n",
       "      <td>AGER_TYP</td>\n",
       "      <td>person</td>\n",
       "      <td>categorical</td>\n",
       "      <td>[-1,0]</td>\n",
       "    </tr>\n",
       "    <tr>\n",
       "      <th>1</th>\n",
       "      <td>ALTERSKATEGORIE_GROB</td>\n",
       "      <td>person</td>\n",
       "      <td>ordinal</td>\n",
       "      <td>[-1,0,9]</td>\n",
       "    </tr>\n",
       "    <tr>\n",
       "      <th>2</th>\n",
       "      <td>ANREDE_KZ</td>\n",
       "      <td>person</td>\n",
       "      <td>categorical</td>\n",
       "      <td>[-1,0]</td>\n",
       "    </tr>\n",
       "  </tbody>\n",
       "</table>\n",
       "</div>"
      ],
      "text/plain": [
       "              attribute information_level         type missing_or_unknown\n",
       "0              AGER_TYP            person  categorical             [-1,0]\n",
       "1  ALTERSKATEGORIE_GROB            person      ordinal           [-1,0,9]\n",
       "2             ANREDE_KZ            person  categorical             [-1,0]"
      ]
     },
     "execution_count": 6,
     "metadata": {},
     "output_type": "execute_result"
    }
   ],
   "source": [
    "feat_info.head(n=3)"
   ]
  },
  {
   "cell_type": "markdown",
   "metadata": {},
   "source": [
    "> **Tip**: Add additional cells to keep everything in reasonably-sized chunks! Keyboard shortcut `esc --> a` (press escape to enter command mode, then press the 'A' key) adds a new cell before the active cell, and `esc --> b` adds a new cell after the active cell. If you need to convert an active cell to a markdown cell, use `esc --> m` and to convert to a code cell, use `esc --> y`. \n",
    "\n",
    "## Step 1: Preprocessing\n",
    "\n",
    "### Step 1.1: Assess Missing Data\n",
    "\n",
    "The feature summary file contains a summary of properties for each demographics data column. You will use this file to help you make cleaning decisions during this stage of the project. First of all, you should assess the demographics data in terms of missing data. Pay attention to the following points as you perform your analysis, and take notes on what you observe. Make sure that you fill in the **Discussion** cell with your findings and decisions at the end of each step that has one!\n",
    "\n",
    "#### Step 1.1.1: Convert Missing Value Codes to NaNs\n",
    "The fourth column of the feature attributes summary (loaded in above as `feat_info`) documents the codes from the data dictionary that indicate missing or unknown data. While the file encodes this as a list (e.g. `[-1,0]`), this will get read in as a string object. You'll need to do a little bit of parsing to make use of it to identify and clean the data. Convert data that matches a 'missing' or 'unknown' value code into a numpy NaN value. You might want to see how much data takes on a 'missing' or 'unknown' code, and how much data is naturally missing, as a point of interest.\n",
    "\n",
    "**As one more reminder, you are encouraged to add additional cells to break up your analysis into manageable chunks.**"
   ]
  },
  {
   "cell_type": "code",
   "execution_count": 7,
   "metadata": {},
   "outputs": [
    {
     "data": {
      "text/plain": [
       "CJT_GESAMTTYP            4854\n",
       "GFK_URLAUBERTYP          4854\n",
       "LP_LEBENSPHASE_FEIN      4854\n",
       "LP_LEBENSPHASE_GROB      4854\n",
       "LP_FAMILIE_FEIN          4854\n",
       "LP_FAMILIE_GROB          4854\n",
       "LP_STATUS_FEIN           4854\n",
       "LP_STATUS_GROB           4854\n",
       "RETOURTYP_BK_S           4854\n",
       "SOHO_KZ                 73499\n",
       "TITEL_KZ                73499\n",
       "ALTER_HH                73499\n",
       "ANZ_PERSONEN            73499\n",
       "ANZ_TITEL               73499\n",
       "HH_EINKOMMEN_SCORE      18348\n",
       "KK_KUNDENTYP           584612\n",
       "W_KEIT_KIND_HH         107602\n",
       "WOHNDAUER_2008          73499\n",
       "ANZ_HAUSHALTE_AKTIV     93148\n",
       "ANZ_HH_TITEL            97008\n",
       "GEBAEUDETYP             93148\n",
       "KONSUMNAEHE             73969\n",
       "MIN_GEBAEUDEJAHR        93148\n",
       "OST_WEST_KZ             93148\n",
       "WOHNLAGE                93148\n",
       "CAMEO_DEUG_2015         98979\n",
       "CAMEO_DEU_2015          98979\n",
       "CAMEO_INTL_2015         98979\n",
       "KBA05_ANTG1            133324\n",
       "KBA05_ANTG2            133324\n",
       "KBA05_ANTG3            133324\n",
       "KBA05_ANTG4            133324\n",
       "KBA05_BAUMAX           133324\n",
       "KBA05_GBZ              133324\n",
       "BALLRAUM                93740\n",
       "EWDICHTE                93740\n",
       "INNENSTADT              93740\n",
       "GEBAEUDETYP_RASTER      93155\n",
       "KKK                    121196\n",
       "MOBI_REGIO             133324\n",
       "ONLINE_AFFINITAET        4854\n",
       "REGIOTYP               121196\n",
       "KBA13_ANZAHL_PKW       105800\n",
       "PLZ8_ANTG1             116515\n",
       "PLZ8_ANTG2             116515\n",
       "PLZ8_ANTG3             116515\n",
       "PLZ8_ANTG4             116515\n",
       "PLZ8_BAUMAX            116515\n",
       "PLZ8_HHZ               116515\n",
       "PLZ8_GBZ               116515\n",
       "ARBEIT                  97216\n",
       "ORTSGR_KLS9             97216\n",
       "RELAT_AB                97216\n",
       "dtype: int64"
      ]
     },
     "execution_count": 7,
     "metadata": {},
     "output_type": "execute_result"
    }
   ],
   "source": [
    "# Identify missing or unknown data values and convert them to NaNs.\n",
    "\n",
    "# Number of missing values by variable\n",
    "missing_value_counts = azdias.isna().sum()\n",
    "missing_value_counts[missing_value_counts > 0]"
   ]
  },
  {
   "cell_type": "code",
   "execution_count": 8,
   "metadata": {},
   "outputs": [
    {
     "data": {
      "text/plain": [
       "4896838"
      ]
     },
     "execution_count": 8,
     "metadata": {},
     "output_type": "execute_result"
    }
   ],
   "source": [
    "# Total missing values \n",
    "azdias.isnull().sum().sum()"
   ]
  },
  {
   "cell_type": "code",
   "execution_count": 9,
   "metadata": {},
   "outputs": [
    {
     "data": {
      "text/plain": [
       "array(['[-1,0]', '[-1,0,9]', '[0]', '[-1]', '[]', '[-1,9]', '[-1,X]',\n",
       "       '[XX]', '[-1,XX]'], dtype=object)"
      ]
     },
     "execution_count": 9,
     "metadata": {},
     "output_type": "execute_result"
    }
   ],
   "source": [
    "# Missing/Unknown unique values\n",
    "feat_info['missing_or_unknown'].unique()"
   ]
  },
  {
   "cell_type": "code",
   "execution_count": 10,
   "metadata": {},
   "outputs": [],
   "source": [
    "# Convert missing or unknown column into list\n",
    "feat_info['missing_or_unknown'] = feat_info['missing_or_unknown'].str.strip('[]').str.split(',')"
   ]
  },
  {
   "cell_type": "code",
   "execution_count": 11,
   "metadata": {},
   "outputs": [],
   "source": [
    "# replace missing or unknown values with np.nan based on attribute\n",
    "for i in range(len(feat_info)):\n",
    "    missing_value_encoding = feat_info.iloc[i]['missing_or_unknown'] # for each row in column\n",
    "    missing_value_encoding = list(int(value) if value not in ('XX', 'X', '') else value\n",
    "                                  for value in missing_value_encoding) \n",
    "    # Place values for missing values into a list & convert integers to integer type\n",
    "    missing_value_dictionary = {feat_info.iloc[i]['attribute']: missing_value_encoding}\n",
    "    azdias = azdias.replace(missing_value_dictionary, np.nan) \n",
    "    #replace with np.nan based on the code for each attribute from the dictionary\n"
   ]
  },
  {
   "cell_type": "code",
   "execution_count": 12,
   "metadata": {},
   "outputs": [
    {
     "data": {
      "text/plain": [
       "8373929"
      ]
     },
     "execution_count": 12,
     "metadata": {},
     "output_type": "execute_result"
    }
   ],
   "source": [
    "# New total missing values\n",
    "azdias.isnull().sum().sum()\n"
   ]
  },
  {
   "cell_type": "markdown",
   "metadata": {},
   "source": [
    "#### Step 1.1.2: Assess Missing Data in Each Column\n",
    "\n",
    "How much missing data is present in each column? There are a few columns that are outliers in terms of the proportion of values that are missing. You will want to use matplotlib's [`hist()`](https://matplotlib.org/api/_as_gen/matplotlib.pyplot.hist.html) function to visualize the distribution of missing value counts to find these columns. Identify and document these columns. While some of these columns might have justifications for keeping or re-encoding the data, for this project you should just remove them from the dataframe. (Feel free to make remarks about these outlier columns in the discussion, however!)\n",
    "\n",
    "For the remaining features, are there any patterns in which columns have, or share, missing data?"
   ]
  },
  {
   "cell_type": "code",
   "execution_count": 13,
   "metadata": {},
   "outputs": [
    {
     "data": {
      "text/plain": [
       "TITEL_KZ                 889061\n",
       "AGER_TYP                 685843\n",
       "KK_KUNDENTYP             584612\n",
       "KBA05_BAUMAX             476524\n",
       "GEBURTSJAHR              392318\n",
       "ALTER_HH                 310267\n",
       "REGIOTYP                 158064\n",
       "KKK                      158064\n",
       "W_KEIT_KIND_HH           147988\n",
       "KBA05_ANTG4              133324\n",
       "KBA05_GBZ                133324\n",
       "MOBI_REGIO               133324\n",
       "KBA05_ANTG1              133324\n",
       "KBA05_ANTG2              133324\n",
       "KBA05_ANTG3              133324\n",
       "PLZ8_GBZ                 116515\n",
       "PLZ8_HHZ                 116515\n",
       "PLZ8_BAUMAX              116515\n",
       "PLZ8_ANTG4               116515\n",
       "PLZ8_ANTG1               116515\n",
       "PLZ8_ANTG3               116515\n",
       "PLZ8_ANTG2               116515\n",
       "SHOPPER_TYP              111196\n",
       "VERS_TYP                 111196\n",
       "HEALTH_TYP               111196\n",
       "NATIONALITAET_KZ         108315\n",
       "PRAEGENDE_JUGENDJAHRE    108164\n",
       "KBA13_ANZAHL_PKW         105800\n",
       "ANZ_HAUSHALTE_AKTIV       99611\n",
       "CAMEO_INTL_2015           99352\n",
       "                          ...  \n",
       "CAMEO_DEUG_2015           99352\n",
       "LP_LEBENSPHASE_FEIN       97632\n",
       "RELAT_AB                  97375\n",
       "ARBEIT                    97375\n",
       "ORTSGR_KLS9               97274\n",
       "ANZ_HH_TITEL              97008\n",
       "LP_LEBENSPHASE_GROB       94572\n",
       "INNENSTADT                93740\n",
       "EWDICHTE                  93740\n",
       "BALLRAUM                  93740\n",
       "GEBAEUDETYP_RASTER        93155\n",
       "MIN_GEBAEUDEJAHR          93148\n",
       "GEBAEUDETYP               93148\n",
       "WOHNLAGE                  93148\n",
       "OST_WEST_KZ               93148\n",
       "LP_FAMILIE_FEIN           77792\n",
       "LP_FAMILIE_GROB           77792\n",
       "KONSUMNAEHE               73969\n",
       "ANZ_PERSONEN              73499\n",
       "SOHO_KZ                   73499\n",
       "ANZ_TITEL                 73499\n",
       "WOHNDAUER_2008            73499\n",
       "HH_EINKOMMEN_SCORE        18348\n",
       "CJT_GESAMTTYP              4854\n",
       "RETOURTYP_BK_S             4854\n",
       "ONLINE_AFFINITAET          4854\n",
       "LP_STATUS_FEIN             4854\n",
       "LP_STATUS_GROB             4854\n",
       "GFK_URLAUBERTYP            4854\n",
       "ALTERSKATEGORIE_GROB       2881\n",
       "Length: 61, dtype: int64"
      ]
     },
     "execution_count": 13,
     "metadata": {},
     "output_type": "execute_result"
    }
   ],
   "source": [
    "# Perform an assessment of how much missing data there is in each column of the\n",
    "# dataset.\n",
    "missing_value_counts = azdias.isna().sum().sort_values(ascending=False)\n",
    "missing_value_counts[missing_value_counts > 0]"
   ]
  },
  {
   "cell_type": "code",
   "execution_count": 14,
   "metadata": {},
   "outputs": [
    {
     "data": {
      "text/plain": [
       "AGER_TYP                 76.955435\n",
       "ALTERSKATEGORIE_GROB      0.323264\n",
       "CJT_GESAMTTYP             0.544646\n",
       "GEBURTSJAHR              44.020282\n",
       "GFK_URLAUBERTYP           0.544646\n",
       "HEALTH_TYP               12.476816\n",
       "LP_LEBENSPHASE_FEIN      10.954859\n",
       "LP_LEBENSPHASE_GROB      10.611509\n",
       "LP_FAMILIE_FEIN           8.728699\n",
       "LP_FAMILIE_GROB           8.728699\n",
       "LP_STATUS_FEIN            0.544646\n",
       "LP_STATUS_GROB            0.544646\n",
       "NATIONALITAET_KZ         12.153551\n",
       "PRAEGENDE_JUGENDJAHRE    12.136608\n",
       "RETOURTYP_BK_S            0.544646\n",
       "SHOPPER_TYP              12.476816\n",
       "SOHO_KZ                   8.247000\n",
       "TITEL_KZ                 99.757636\n",
       "VERS_TYP                 12.476816\n",
       "ALTER_HH                 34.813699\n",
       "ANZ_PERSONEN              8.247000\n",
       "ANZ_TITEL                 8.247000\n",
       "HH_EINKOMMEN_SCORE        2.058749\n",
       "KK_KUNDENTYP             65.596749\n",
       "W_KEIT_KIND_HH           16.605084\n",
       "WOHNDAUER_2008            8.247000\n",
       "ANZ_HAUSHALTE_AKTIV      11.176913\n",
       "ANZ_HH_TITEL             10.884842\n",
       "GEBAEUDETYP              10.451729\n",
       "KONSUMNAEHE               8.299737\n",
       "                           ...    \n",
       "OST_WEST_KZ              10.451729\n",
       "WOHNLAGE                 10.451729\n",
       "CAMEO_DEUG_2015          11.147852\n",
       "CAMEO_DEU_2015           11.147852\n",
       "CAMEO_INTL_2015          11.147852\n",
       "KBA05_ANTG1              14.959701\n",
       "KBA05_ANTG2              14.959701\n",
       "KBA05_ANTG3              14.959701\n",
       "KBA05_ANTG4              14.959701\n",
       "KBA05_BAUMAX             53.468668\n",
       "KBA05_GBZ                14.959701\n",
       "BALLRAUM                 10.518154\n",
       "EWDICHTE                 10.518154\n",
       "INNENSTADT               10.518154\n",
       "GEBAEUDETYP_RASTER       10.452514\n",
       "KKK                      17.735668\n",
       "MOBI_REGIO               14.959701\n",
       "ONLINE_AFFINITAET         0.544646\n",
       "REGIOTYP                 17.735668\n",
       "KBA13_ANZAHL_PKW         11.871354\n",
       "PLZ8_ANTG1               13.073637\n",
       "PLZ8_ANTG2               13.073637\n",
       "PLZ8_ANTG3               13.073637\n",
       "PLZ8_ANTG4               13.073637\n",
       "PLZ8_BAUMAX              13.073637\n",
       "PLZ8_HHZ                 13.073637\n",
       "PLZ8_GBZ                 13.073637\n",
       "ARBEIT                   10.926022\n",
       "ORTSGR_KLS9              10.914689\n",
       "RELAT_AB                 10.926022\n",
       "Length: 61, dtype: float64"
      ]
     },
     "execution_count": 14,
     "metadata": {},
     "output_type": "execute_result"
    }
   ],
   "source": [
    "# Investigate patterns in the amount of missing data in each column.\n",
    "\n",
    "# Proportion of values in each column that are null\n",
    "percent_null = azdias.isnull().sum()/len(azdias) * 100\n",
    "\n",
    "percent_null[percent_null >0]"
   ]
  },
  {
   "cell_type": "code",
   "execution_count": 15,
   "metadata": {},
   "outputs": [
    {
     "data": {
      "image/png": "[encoded data removed]",
      "text/plain": [
       "<matplotlib.figure.Figure at 0x7ff2a2cd1fd0>"
      ]
     },
     "metadata": {
      "needs_background": "light"
     },
     "output_type": "display_data"
    }
   ],
   "source": [
    "# Histogram of Missing Value Percent for each column\n",
    "\n",
    "plt.hist(percent_null, bins = 30)\n",
    "plt.ylabel('Count')\n",
    "plt.xlabel('Percent Missing Values')\n",
    "plt.grid(True)"
   ]
  },
  {
   "cell_type": "code",
   "execution_count": 16,
   "metadata": {},
   "outputs": [
    {
     "data": {
      "text/plain": [
       "count    85.000000\n",
       "mean     11.054139\n",
       "std      16.449815\n",
       "min       0.000000\n",
       "25%       0.000000\n",
       "50%      10.451729\n",
       "75%      13.073637\n",
       "max      99.757636\n",
       "dtype: float64"
      ]
     },
     "execution_count": 16,
     "metadata": {},
     "output_type": "execute_result"
    }
   ],
   "source": [
    "percent_null.describe()"
   ]
  },
  {
   "cell_type": "code",
   "execution_count": 17,
   "metadata": {},
   "outputs": [],
   "source": [
    "# Remove the outlier columns from the dataset. (You'll perform other data\n",
    "# engineering tasks such as re-encoding and imputation later.)\n",
    "\n",
    "# Set condition for outlier mean +/- 1.5*!QR\n",
    "outlier_condition = percent_null.mean() + 1.5* (np.percentile(percent_null, 75) - np.percentile(percent_null, 25))"
   ]
  },
  {
   "cell_type": "code",
   "execution_count": 18,
   "metadata": {},
   "outputs": [
    {
     "data": {
      "text/plain": [
       "30.664595175013368"
      ]
     },
     "execution_count": 18,
     "metadata": {},
     "output_type": "execute_result"
    }
   ],
   "source": [
    "outlier_condition"
   ]
  },
  {
   "cell_type": "code",
   "execution_count": 19,
   "metadata": {},
   "outputs": [],
   "source": [
    "outlier_columns = percent_null[percent_null > outlier_condition].index"
   ]
  },
  {
   "cell_type": "code",
   "execution_count": 20,
   "metadata": {},
   "outputs": [
    {
     "data": {
      "text/plain": [
       "6"
      ]
     },
     "execution_count": 20,
     "metadata": {},
     "output_type": "execute_result"
    }
   ],
   "source": [
    "# Number of outlier columns\n",
    "\n",
    "len(outlier_columns)"
   ]
  },
  {
   "cell_type": "code",
   "execution_count": 21,
   "metadata": {},
   "outputs": [
    {
     "name": "stdout",
     "output_type": "stream",
     "text": [
      "Outlier columns: Index(['AGER_TYP', 'GEBURTSJAHR', 'TITEL_KZ', 'ALTER_HH', 'KK_KUNDENTYP',\n",
      "       'KBA05_BAUMAX'],\n",
      "      dtype='object')\n"
     ]
    }
   ],
   "source": [
    "print('Outlier columns:', outlier_columns)"
   ]
  },
  {
   "cell_type": "code",
   "execution_count": 22,
   "metadata": {},
   "outputs": [],
   "source": [
    "# Drop outlier columns\n",
    "\n",
    "azdias = azdias.drop(outlier_columns, axis = 1)"
   ]
  },
  {
   "cell_type": "code",
   "execution_count": 23,
   "metadata": {},
   "outputs": [
    {
     "data": {
      "text/plain": [
       "(891221, 79)"
      ]
     },
     "execution_count": 23,
     "metadata": {},
     "output_type": "execute_result"
    }
   ],
   "source": [
    "# verify that these 6 columns were dropped from the dataset (decrease from 85 to 79 columns)\n",
    "azdias.shape"
   ]
  },
  {
   "cell_type": "markdown",
   "metadata": {},
   "source": [
    "#### Discussion 1.1.2: Assess Missing Data in Each Column\n",
    "\n",
    "Six columns were outliers in terms of percent of values missing. These 6 columns that were removed from the data set are: 'AGER_TYP', 'GEBURTSJAHR', 'TITEL_KZ', 'ALTER_HH', 'KK_KUNDENTYP', and 'KBA05_BAUMAX'. From the hsitogram we can see that a majority of the columns have less than 20% of their values as nulls. By using the mean + 1.5 * IQR method, we removed columns with more than 30.66% percent of values null."
   ]
  },
  {
   "cell_type": "markdown",
   "metadata": {},
   "source": [
    "#### Step 1.1.3: Assess Missing Data in Each Row\n",
    "\n",
    "Now, you'll perform a similar assessment for the rows of the dataset. How much data is missing in each row? As with the columns, you should see some groups of points that have a very different numbers of missing values. Divide the data into two subsets: one for data points that are above some threshold for missing values, and a second subset for points below that threshold.\n",
    "\n",
    "In order to know what to do with the outlier rows, we should see if the distribution of data values on columns that are not missing data (or are missing very little data) are similar or different between the two groups. Select at least five of these columns and compare the distribution of values.\n",
    "- You can use seaborn's [`countplot()`](https://seaborn.pydata.org/generated/seaborn.countplot.html) function to create a bar chart of code frequencies and matplotlib's [`subplot()`](https://matplotlib.org/api/_as_gen/matplotlib.pyplot.subplot.html) function to put bar charts for the two subplots side by side.\n",
    "- To reduce repeated code, you might want to write a function that can perform this comparison, taking as one of its arguments a column to be compared.\n",
    "\n",
    "Depending on what you observe in your comparison, this will have implications on how you approach your conclusions later in the analysis. If the distributions of non-missing features look similar between the data with many missing values and the data with few or no missing values, then we could argue that simply dropping those points from the analysis won't present a major issue. On the other hand, if the data with many missing values looks very different from the data with few or no missing values, then we should make a note on those data as special. We'll revisit these data later on. **Either way, you should continue your analysis for now using just the subset of the data with few or no missing values.**"
   ]
  },
  {
   "cell_type": "code",
   "execution_count": 24,
   "metadata": {},
   "outputs": [
    {
     "data": {
      "text/plain": [
       "0         43\n",
       "1          0\n",
       "2          0\n",
       "3          7\n",
       "4          0\n",
       "5          0\n",
       "6          0\n",
       "7          0\n",
       "8          0\n",
       "9          0\n",
       "10         0\n",
       "11        47\n",
       "12         6\n",
       "13         8\n",
       "14        47\n",
       "15         8\n",
       "16         6\n",
       "17        47\n",
       "18         3\n",
       "19         0\n",
       "20        10\n",
       "21         0\n",
       "22         0\n",
       "23         8\n",
       "24        47\n",
       "25         5\n",
       "26        19\n",
       "27         0\n",
       "28         0\n",
       "29         2\n",
       "          ..\n",
       "891191     0\n",
       "891192     0\n",
       "891193     0\n",
       "891194     0\n",
       "891195     0\n",
       "891196     0\n",
       "891197     0\n",
       "891198     0\n",
       "891199     0\n",
       "891200     0\n",
       "891201     0\n",
       "891202     0\n",
       "891203    14\n",
       "891204     0\n",
       "891205     0\n",
       "891206     0\n",
       "891207     0\n",
       "891208     3\n",
       "891209     0\n",
       "891210     0\n",
       "891211     0\n",
       "891212     0\n",
       "891213     0\n",
       "891214     0\n",
       "891215     0\n",
       "891216     3\n",
       "891217     4\n",
       "891218     5\n",
       "891219     0\n",
       "891220     0\n",
       "Length: 891221, dtype: int64"
      ]
     },
     "execution_count": 24,
     "metadata": {},
     "output_type": "execute_result"
    }
   ],
   "source": [
    "# How much data is missing in each row of the dataset?\n",
    "\n",
    "row_null_count = azdias.isnull().sum(axis = 1)\n",
    "row_null_count"
   ]
  },
  {
   "cell_type": "code",
   "execution_count": 25,
   "metadata": {},
   "outputs": [
    {
     "data": {
      "text/plain": [
       "Text(0,0.5,'Count')"
      ]
     },
     "execution_count": 25,
     "metadata": {},
     "output_type": "execute_result"
    },
    {
     "data": {
      "image/png": "[encoded data removed]",
      "text/plain": [
       "<matplotlib.figure.Figure at 0x7ff2a098bf98>"
      ]
     },
     "metadata": {
      "needs_background": "light"
     },
     "output_type": "display_data"
    }
   ],
   "source": [
    "plt.hist(row_null_count, bins = 30)\n",
    "plt.xlabel('Null Count')\n",
    "plt.ylabel('Count')"
   ]
  },
  {
   "cell_type": "code",
   "execution_count": 26,
   "metadata": {},
   "outputs": [
    {
     "data": {
      "text/plain": [
       "count    891221.000000\n",
       "mean          5.649894\n",
       "std          13.234687\n",
       "min           0.000000\n",
       "25%           0.000000\n",
       "50%           0.000000\n",
       "75%           3.000000\n",
       "max          49.000000\n",
       "dtype: float64"
      ]
     },
     "execution_count": 26,
     "metadata": {},
     "output_type": "execute_result"
    }
   ],
   "source": [
    "row_null_count.describe()"
   ]
  },
  {
   "cell_type": "code",
   "execution_count": 27,
   "metadata": {},
   "outputs": [],
   "source": [
    "# Write code to divide the data into two subsets based on the number of missing\n",
    "# values in each row.\n",
    "\n",
    "#subset_1 = azdias[azdias.isnull().sum(axis = 1) > np.percentile(row_null_count, 50)]\n",
    "#subset_2 = azdias[azdias.isnull().sum(axis = 1) <= np.percentile(row_null_count, 50)]\n",
    "\n",
    "subset_1 = azdias[azdias.isnull().sum(axis = 1) > outlier_condition]\n",
    "subset_2 = azdias[azdias.isnull().sum(axis = 1) <= outlier_condition]"
   ]
  },
  {
   "cell_type": "code",
   "execution_count": 28,
   "metadata": {},
   "outputs": [
    {
     "data": {
      "text/html": [
       "<div>\n",
       "<style scoped>\n",
       "    .dataframe tbody tr th:only-of-type {\n",
       "        vertical-align: middle;\n",
       "    }\n",
       "\n",
       "    .dataframe tbody tr th {\n",
       "        vertical-align: top;\n",
       "    }\n",
       "\n",
       "    .dataframe thead th {\n",
       "        text-align: right;\n",
       "    }\n",
       "</style>\n",
       "<table border=\"1\" class=\"dataframe\">\n",
       "  <thead>\n",
       "    <tr style=\"text-align: right;\">\n",
       "      <th></th>\n",
       "      <th>ALTERSKATEGORIE_GROB</th>\n",
       "      <th>ANREDE_KZ</th>\n",
       "      <th>CJT_GESAMTTYP</th>\n",
       "      <th>FINANZ_MINIMALIST</th>\n",
       "      <th>FINANZ_SPARER</th>\n",
       "      <th>FINANZ_VORSORGER</th>\n",
       "      <th>FINANZ_ANLEGER</th>\n",
       "      <th>FINANZ_UNAUFFAELLIGER</th>\n",
       "      <th>FINANZ_HAUSBAUER</th>\n",
       "      <th>FINANZTYP</th>\n",
       "      <th>...</th>\n",
       "      <th>PLZ8_ANTG1</th>\n",
       "      <th>PLZ8_ANTG2</th>\n",
       "      <th>PLZ8_ANTG3</th>\n",
       "      <th>PLZ8_ANTG4</th>\n",
       "      <th>PLZ8_BAUMAX</th>\n",
       "      <th>PLZ8_HHZ</th>\n",
       "      <th>PLZ8_GBZ</th>\n",
       "      <th>ARBEIT</th>\n",
       "      <th>ORTSGR_KLS9</th>\n",
       "      <th>RELAT_AB</th>\n",
       "    </tr>\n",
       "  </thead>\n",
       "  <tbody>\n",
       "    <tr>\n",
       "      <th>count</th>\n",
       "      <td>93076.000000</td>\n",
       "      <td>93154.000000</td>\n",
       "      <td>93049.000000</td>\n",
       "      <td>93154.000000</td>\n",
       "      <td>93154.000000</td>\n",
       "      <td>93154.000000</td>\n",
       "      <td>93154.00000</td>\n",
       "      <td>93154.000000</td>\n",
       "      <td>93154.000000</td>\n",
       "      <td>93154.000000</td>\n",
       "      <td>...</td>\n",
       "      <td>0.0</td>\n",
       "      <td>0.0</td>\n",
       "      <td>0.0</td>\n",
       "      <td>0.0</td>\n",
       "      <td>0.0</td>\n",
       "      <td>0.0</td>\n",
       "      <td>0.0</td>\n",
       "      <td>6.000000</td>\n",
       "      <td>6.000000</td>\n",
       "      <td>6.000000</td>\n",
       "    </tr>\n",
       "    <tr>\n",
       "      <th>mean</th>\n",
       "      <td>2.430863</td>\n",
       "      <td>1.527342</td>\n",
       "      <td>4.740696</td>\n",
       "      <td>3.208279</td>\n",
       "      <td>3.720495</td>\n",
       "      <td>3.128830</td>\n",
       "      <td>4.68142</td>\n",
       "      <td>4.723018</td>\n",
       "      <td>2.741246</td>\n",
       "      <td>3.729244</td>\n",
       "      <td>...</td>\n",
       "      <td>NaN</td>\n",
       "      <td>NaN</td>\n",
       "      <td>NaN</td>\n",
       "      <td>NaN</td>\n",
       "      <td>NaN</td>\n",
       "      <td>NaN</td>\n",
       "      <td>NaN</td>\n",
       "      <td>3.166667</td>\n",
       "      <td>4.166667</td>\n",
       "      <td>3.166667</td>\n",
       "    </tr>\n",
       "    <tr>\n",
       "      <th>std</th>\n",
       "      <td>0.868601</td>\n",
       "      <td>0.499255</td>\n",
       "      <td>1.645017</td>\n",
       "      <td>0.646886</td>\n",
       "      <td>0.853205</td>\n",
       "      <td>0.632164</td>\n",
       "      <td>0.87635</td>\n",
       "      <td>0.741121</td>\n",
       "      <td>0.639476</td>\n",
       "      <td>0.754441</td>\n",
       "      <td>...</td>\n",
       "      <td>NaN</td>\n",
       "      <td>NaN</td>\n",
       "      <td>NaN</td>\n",
       "      <td>NaN</td>\n",
       "      <td>NaN</td>\n",
       "      <td>NaN</td>\n",
       "      <td>NaN</td>\n",
       "      <td>1.471960</td>\n",
       "      <td>2.562551</td>\n",
       "      <td>1.329160</td>\n",
       "    </tr>\n",
       "    <tr>\n",
       "      <th>min</th>\n",
       "      <td>1.000000</td>\n",
       "      <td>1.000000</td>\n",
       "      <td>1.000000</td>\n",
       "      <td>1.000000</td>\n",
       "      <td>1.000000</td>\n",
       "      <td>1.000000</td>\n",
       "      <td>1.00000</td>\n",
       "      <td>1.000000</td>\n",
       "      <td>1.000000</td>\n",
       "      <td>1.000000</td>\n",
       "      <td>...</td>\n",
       "      <td>NaN</td>\n",
       "      <td>NaN</td>\n",
       "      <td>NaN</td>\n",
       "      <td>NaN</td>\n",
       "      <td>NaN</td>\n",
       "      <td>NaN</td>\n",
       "      <td>NaN</td>\n",
       "      <td>1.000000</td>\n",
       "      <td>2.000000</td>\n",
       "      <td>1.000000</td>\n",
       "    </tr>\n",
       "    <tr>\n",
       "      <th>25%</th>\n",
       "      <td>2.000000</td>\n",
       "      <td>1.000000</td>\n",
       "      <td>4.000000</td>\n",
       "      <td>3.000000</td>\n",
       "      <td>4.000000</td>\n",
       "      <td>3.000000</td>\n",
       "      <td>5.00000</td>\n",
       "      <td>5.000000</td>\n",
       "      <td>3.000000</td>\n",
       "      <td>4.000000</td>\n",
       "      <td>...</td>\n",
       "      <td>NaN</td>\n",
       "      <td>NaN</td>\n",
       "      <td>NaN</td>\n",
       "      <td>NaN</td>\n",
       "      <td>NaN</td>\n",
       "      <td>NaN</td>\n",
       "      <td>NaN</td>\n",
       "      <td>2.250000</td>\n",
       "      <td>3.000000</td>\n",
       "      <td>3.000000</td>\n",
       "    </tr>\n",
       "    <tr>\n",
       "      <th>50%</th>\n",
       "      <td>3.000000</td>\n",
       "      <td>2.000000</td>\n",
       "      <td>6.000000</td>\n",
       "      <td>3.000000</td>\n",
       "      <td>4.000000</td>\n",
       "      <td>3.000000</td>\n",
       "      <td>5.00000</td>\n",
       "      <td>5.000000</td>\n",
       "      <td>3.000000</td>\n",
       "      <td>4.000000</td>\n",
       "      <td>...</td>\n",
       "      <td>NaN</td>\n",
       "      <td>NaN</td>\n",
       "      <td>NaN</td>\n",
       "      <td>NaN</td>\n",
       "      <td>NaN</td>\n",
       "      <td>NaN</td>\n",
       "      <td>NaN</td>\n",
       "      <td>3.500000</td>\n",
       "      <td>3.000000</td>\n",
       "      <td>3.000000</td>\n",
       "    </tr>\n",
       "    <tr>\n",
       "      <th>75%</th>\n",
       "      <td>3.000000</td>\n",
       "      <td>2.000000</td>\n",
       "      <td>6.000000</td>\n",
       "      <td>3.000000</td>\n",
       "      <td>4.000000</td>\n",
       "      <td>3.000000</td>\n",
       "      <td>5.00000</td>\n",
       "      <td>5.000000</td>\n",
       "      <td>3.000000</td>\n",
       "      <td>4.000000</td>\n",
       "      <td>...</td>\n",
       "      <td>NaN</td>\n",
       "      <td>NaN</td>\n",
       "      <td>NaN</td>\n",
       "      <td>NaN</td>\n",
       "      <td>NaN</td>\n",
       "      <td>NaN</td>\n",
       "      <td>NaN</td>\n",
       "      <td>4.000000</td>\n",
       "      <td>4.500000</td>\n",
       "      <td>3.750000</td>\n",
       "    </tr>\n",
       "    <tr>\n",
       "      <th>max</th>\n",
       "      <td>4.000000</td>\n",
       "      <td>2.000000</td>\n",
       "      <td>6.000000</td>\n",
       "      <td>5.000000</td>\n",
       "      <td>5.000000</td>\n",
       "      <td>5.000000</td>\n",
       "      <td>5.00000</td>\n",
       "      <td>5.000000</td>\n",
       "      <td>4.000000</td>\n",
       "      <td>6.000000</td>\n",
       "      <td>...</td>\n",
       "      <td>NaN</td>\n",
       "      <td>NaN</td>\n",
       "      <td>NaN</td>\n",
       "      <td>NaN</td>\n",
       "      <td>NaN</td>\n",
       "      <td>NaN</td>\n",
       "      <td>NaN</td>\n",
       "      <td>5.000000</td>\n",
       "      <td>9.000000</td>\n",
       "      <td>5.000000</td>\n",
       "    </tr>\n",
       "  </tbody>\n",
       "</table>\n",
       "<p>8 rows × 75 columns</p>\n",
       "</div>"
      ],
      "text/plain": [
       "       ALTERSKATEGORIE_GROB     ANREDE_KZ  CJT_GESAMTTYP  FINANZ_MINIMALIST  \\\n",
       "count          93076.000000  93154.000000   93049.000000       93154.000000   \n",
       "mean               2.430863      1.527342       4.740696           3.208279   \n",
       "std                0.868601      0.499255       1.645017           0.646886   \n",
       "min                1.000000      1.000000       1.000000           1.000000   \n",
       "25%                2.000000      1.000000       4.000000           3.000000   \n",
       "50%                3.000000      2.000000       6.000000           3.000000   \n",
       "75%                3.000000      2.000000       6.000000           3.000000   \n",
       "max                4.000000      2.000000       6.000000           5.000000   \n",
       "\n",
       "       FINANZ_SPARER  FINANZ_VORSORGER  FINANZ_ANLEGER  FINANZ_UNAUFFAELLIGER  \\\n",
       "count   93154.000000      93154.000000     93154.00000           93154.000000   \n",
       "mean        3.720495          3.128830         4.68142               4.723018   \n",
       "std         0.853205          0.632164         0.87635               0.741121   \n",
       "min         1.000000          1.000000         1.00000               1.000000   \n",
       "25%         4.000000          3.000000         5.00000               5.000000   \n",
       "50%         4.000000          3.000000         5.00000               5.000000   \n",
       "75%         4.000000          3.000000         5.00000               5.000000   \n",
       "max         5.000000          5.000000         5.00000               5.000000   \n",
       "\n",
       "       FINANZ_HAUSBAUER     FINANZTYP    ...     PLZ8_ANTG1  PLZ8_ANTG2  \\\n",
       "count      93154.000000  93154.000000    ...            0.0         0.0   \n",
       "mean           2.741246      3.729244    ...            NaN         NaN   \n",
       "std            0.639476      0.754441    ...            NaN         NaN   \n",
       "min            1.000000      1.000000    ...            NaN         NaN   \n",
       "25%            3.000000      4.000000    ...            NaN         NaN   \n",
       "50%            3.000000      4.000000    ...            NaN         NaN   \n",
       "75%            3.000000      4.000000    ...            NaN         NaN   \n",
       "max            4.000000      6.000000    ...            NaN         NaN   \n",
       "\n",
       "       PLZ8_ANTG3  PLZ8_ANTG4  PLZ8_BAUMAX  PLZ8_HHZ  PLZ8_GBZ    ARBEIT  \\\n",
       "count         0.0         0.0          0.0       0.0       0.0  6.000000   \n",
       "mean          NaN         NaN          NaN       NaN       NaN  3.166667   \n",
       "std           NaN         NaN          NaN       NaN       NaN  1.471960   \n",
       "min           NaN         NaN          NaN       NaN       NaN  1.000000   \n",
       "25%           NaN         NaN          NaN       NaN       NaN  2.250000   \n",
       "50%           NaN         NaN          NaN       NaN       NaN  3.500000   \n",
       "75%           NaN         NaN          NaN       NaN       NaN  4.000000   \n",
       "max           NaN         NaN          NaN       NaN       NaN  5.000000   \n",
       "\n",
       "       ORTSGR_KLS9  RELAT_AB  \n",
       "count     6.000000  6.000000  \n",
       "mean      4.166667  3.166667  \n",
       "std       2.562551  1.329160  \n",
       "min       2.000000  1.000000  \n",
       "25%       3.000000  3.000000  \n",
       "50%       3.000000  3.000000  \n",
       "75%       4.500000  3.750000  \n",
       "max       9.000000  5.000000  \n",
       "\n",
       "[8 rows x 75 columns]"
      ]
     },
     "execution_count": 28,
     "metadata": {},
     "output_type": "execute_result"
    }
   ],
   "source": [
    "subset_1.describe()"
   ]
  },
  {
   "cell_type": "code",
   "execution_count": 29,
   "metadata": {},
   "outputs": [
    {
     "data": {
      "text/plain": [
       "(93154, 79)"
      ]
     },
     "execution_count": 29,
     "metadata": {},
     "output_type": "execute_result"
    }
   ],
   "source": [
    "subset_1.shape"
   ]
  },
  {
   "cell_type": "code",
   "execution_count": 30,
   "metadata": {},
   "outputs": [
    {
     "data": {
      "text/html": [
       "<div>\n",
       "<style scoped>\n",
       "    .dataframe tbody tr th:only-of-type {\n",
       "        vertical-align: middle;\n",
       "    }\n",
       "\n",
       "    .dataframe tbody tr th {\n",
       "        vertical-align: top;\n",
       "    }\n",
       "\n",
       "    .dataframe thead th {\n",
       "        text-align: right;\n",
       "    }\n",
       "</style>\n",
       "<table border=\"1\" class=\"dataframe\">\n",
       "  <thead>\n",
       "    <tr style=\"text-align: right;\">\n",
       "      <th></th>\n",
       "      <th>ALTERSKATEGORIE_GROB</th>\n",
       "      <th>ANREDE_KZ</th>\n",
       "      <th>CJT_GESAMTTYP</th>\n",
       "      <th>FINANZ_MINIMALIST</th>\n",
       "      <th>FINANZ_SPARER</th>\n",
       "      <th>FINANZ_VORSORGER</th>\n",
       "      <th>FINANZ_ANLEGER</th>\n",
       "      <th>FINANZ_UNAUFFAELLIGER</th>\n",
       "      <th>FINANZ_HAUSBAUER</th>\n",
       "      <th>FINANZTYP</th>\n",
       "      <th>...</th>\n",
       "      <th>PLZ8_ANTG1</th>\n",
       "      <th>PLZ8_ANTG2</th>\n",
       "      <th>PLZ8_ANTG3</th>\n",
       "      <th>PLZ8_ANTG4</th>\n",
       "      <th>PLZ8_BAUMAX</th>\n",
       "      <th>PLZ8_HHZ</th>\n",
       "      <th>PLZ8_GBZ</th>\n",
       "      <th>ARBEIT</th>\n",
       "      <th>ORTSGR_KLS9</th>\n",
       "      <th>RELAT_AB</th>\n",
       "    </tr>\n",
       "  </thead>\n",
       "  <tbody>\n",
       "    <tr>\n",
       "      <th>count</th>\n",
       "      <td>795264.000000</td>\n",
       "      <td>798067.000000</td>\n",
       "      <td>793318.000000</td>\n",
       "      <td>798067.000000</td>\n",
       "      <td>798067.000000</td>\n",
       "      <td>798067.000000</td>\n",
       "      <td>798067.000000</td>\n",
       "      <td>798067.000000</td>\n",
       "      <td>798067.000000</td>\n",
       "      <td>798067.000000</td>\n",
       "      <td>...</td>\n",
       "      <td>774706.000000</td>\n",
       "      <td>774706.000000</td>\n",
       "      <td>774706.000000</td>\n",
       "      <td>774706.000000</td>\n",
       "      <td>774706.000000</td>\n",
       "      <td>774706.000000</td>\n",
       "      <td>774706.000000</td>\n",
       "      <td>793840.000000</td>\n",
       "      <td>793941.000000</td>\n",
       "      <td>793840.000000</td>\n",
       "    </tr>\n",
       "    <tr>\n",
       "      <th>mean</th>\n",
       "      <td>2.795413</td>\n",
       "      <td>1.521486</td>\n",
       "      <td>3.502897</td>\n",
       "      <td>3.058916</td>\n",
       "      <td>2.716050</td>\n",
       "      <td>3.432887</td>\n",
       "      <td>2.840956</td>\n",
       "      <td>2.658361</td>\n",
       "      <td>3.114092</td>\n",
       "      <td>3.797746</td>\n",
       "      <td>...</td>\n",
       "      <td>2.253330</td>\n",
       "      <td>2.801858</td>\n",
       "      <td>1.595426</td>\n",
       "      <td>0.699166</td>\n",
       "      <td>1.943913</td>\n",
       "      <td>3.612821</td>\n",
       "      <td>3.381087</td>\n",
       "      <td>3.166686</td>\n",
       "      <td>5.293397</td>\n",
       "      <td>3.071032</td>\n",
       "    </tr>\n",
       "    <tr>\n",
       "      <th>std</th>\n",
       "      <td>1.018408</td>\n",
       "      <td>0.499538</td>\n",
       "      <td>1.537613</td>\n",
       "      <td>1.377576</td>\n",
       "      <td>1.485091</td>\n",
       "      <td>1.376869</td>\n",
       "      <td>1.472781</td>\n",
       "      <td>1.399534</td>\n",
       "      <td>1.408110</td>\n",
       "      <td>2.084701</td>\n",
       "      <td>...</td>\n",
       "      <td>0.972008</td>\n",
       "      <td>0.920309</td>\n",
       "      <td>0.986736</td>\n",
       "      <td>0.727137</td>\n",
       "      <td>1.459654</td>\n",
       "      <td>0.973967</td>\n",
       "      <td>1.111598</td>\n",
       "      <td>0.999069</td>\n",
       "      <td>2.303376</td>\n",
       "      <td>1.360533</td>\n",
       "    </tr>\n",
       "    <tr>\n",
       "      <th>min</th>\n",
       "      <td>1.000000</td>\n",
       "      <td>1.000000</td>\n",
       "      <td>1.000000</td>\n",
       "      <td>1.000000</td>\n",
       "      <td>1.000000</td>\n",
       "      <td>1.000000</td>\n",
       "      <td>1.000000</td>\n",
       "      <td>1.000000</td>\n",
       "      <td>1.000000</td>\n",
       "      <td>1.000000</td>\n",
       "      <td>...</td>\n",
       "      <td>0.000000</td>\n",
       "      <td>0.000000</td>\n",
       "      <td>0.000000</td>\n",
       "      <td>0.000000</td>\n",
       "      <td>1.000000</td>\n",
       "      <td>1.000000</td>\n",
       "      <td>1.000000</td>\n",
       "      <td>1.000000</td>\n",
       "      <td>1.000000</td>\n",
       "      <td>1.000000</td>\n",
       "    </tr>\n",
       "    <tr>\n",
       "      <th>25%</th>\n",
       "      <td>2.000000</td>\n",
       "      <td>1.000000</td>\n",
       "      <td>2.000000</td>\n",
       "      <td>2.000000</td>\n",
       "      <td>1.000000</td>\n",
       "      <td>2.000000</td>\n",
       "      <td>1.000000</td>\n",
       "      <td>1.000000</td>\n",
       "      <td>2.000000</td>\n",
       "      <td>2.000000</td>\n",
       "      <td>...</td>\n",
       "      <td>1.000000</td>\n",
       "      <td>2.000000</td>\n",
       "      <td>1.000000</td>\n",
       "      <td>0.000000</td>\n",
       "      <td>1.000000</td>\n",
       "      <td>3.000000</td>\n",
       "      <td>3.000000</td>\n",
       "      <td>3.000000</td>\n",
       "      <td>4.000000</td>\n",
       "      <td>2.000000</td>\n",
       "    </tr>\n",
       "    <tr>\n",
       "      <th>50%</th>\n",
       "      <td>3.000000</td>\n",
       "      <td>2.000000</td>\n",
       "      <td>4.000000</td>\n",
       "      <td>3.000000</td>\n",
       "      <td>3.000000</td>\n",
       "      <td>4.000000</td>\n",
       "      <td>3.000000</td>\n",
       "      <td>2.000000</td>\n",
       "      <td>3.000000</td>\n",
       "      <td>4.000000</td>\n",
       "      <td>...</td>\n",
       "      <td>2.000000</td>\n",
       "      <td>3.000000</td>\n",
       "      <td>2.000000</td>\n",
       "      <td>1.000000</td>\n",
       "      <td>1.000000</td>\n",
       "      <td>4.000000</td>\n",
       "      <td>3.000000</td>\n",
       "      <td>3.000000</td>\n",
       "      <td>5.000000</td>\n",
       "      <td>3.000000</td>\n",
       "    </tr>\n",
       "    <tr>\n",
       "      <th>75%</th>\n",
       "      <td>4.000000</td>\n",
       "      <td>2.000000</td>\n",
       "      <td>5.000000</td>\n",
       "      <td>4.000000</td>\n",
       "      <td>4.000000</td>\n",
       "      <td>5.000000</td>\n",
       "      <td>4.000000</td>\n",
       "      <td>4.000000</td>\n",
       "      <td>4.000000</td>\n",
       "      <td>6.000000</td>\n",
       "      <td>...</td>\n",
       "      <td>3.000000</td>\n",
       "      <td>3.000000</td>\n",
       "      <td>2.000000</td>\n",
       "      <td>1.000000</td>\n",
       "      <td>3.000000</td>\n",
       "      <td>4.000000</td>\n",
       "      <td>4.000000</td>\n",
       "      <td>4.000000</td>\n",
       "      <td>7.000000</td>\n",
       "      <td>4.000000</td>\n",
       "    </tr>\n",
       "    <tr>\n",
       "      <th>max</th>\n",
       "      <td>4.000000</td>\n",
       "      <td>2.000000</td>\n",
       "      <td>6.000000</td>\n",
       "      <td>5.000000</td>\n",
       "      <td>5.000000</td>\n",
       "      <td>5.000000</td>\n",
       "      <td>5.000000</td>\n",
       "      <td>5.000000</td>\n",
       "      <td>5.000000</td>\n",
       "      <td>6.000000</td>\n",
       "      <td>...</td>\n",
       "      <td>4.000000</td>\n",
       "      <td>4.000000</td>\n",
       "      <td>3.000000</td>\n",
       "      <td>2.000000</td>\n",
       "      <td>5.000000</td>\n",
       "      <td>5.000000</td>\n",
       "      <td>5.000000</td>\n",
       "      <td>5.000000</td>\n",
       "      <td>9.000000</td>\n",
       "      <td>5.000000</td>\n",
       "    </tr>\n",
       "  </tbody>\n",
       "</table>\n",
       "<p>8 rows × 75 columns</p>\n",
       "</div>"
      ],
      "text/plain": [
       "       ALTERSKATEGORIE_GROB      ANREDE_KZ  CJT_GESAMTTYP  FINANZ_MINIMALIST  \\\n",
       "count         795264.000000  798067.000000  793318.000000      798067.000000   \n",
       "mean               2.795413       1.521486       3.502897           3.058916   \n",
       "std                1.018408       0.499538       1.537613           1.377576   \n",
       "min                1.000000       1.000000       1.000000           1.000000   \n",
       "25%                2.000000       1.000000       2.000000           2.000000   \n",
       "50%                3.000000       2.000000       4.000000           3.000000   \n",
       "75%                4.000000       2.000000       5.000000           4.000000   \n",
       "max                4.000000       2.000000       6.000000           5.000000   \n",
       "\n",
       "       FINANZ_SPARER  FINANZ_VORSORGER  FINANZ_ANLEGER  FINANZ_UNAUFFAELLIGER  \\\n",
       "count  798067.000000     798067.000000   798067.000000          798067.000000   \n",
       "mean        2.716050          3.432887        2.840956               2.658361   \n",
       "std         1.485091          1.376869        1.472781               1.399534   \n",
       "min         1.000000          1.000000        1.000000               1.000000   \n",
       "25%         1.000000          2.000000        1.000000               1.000000   \n",
       "50%         3.000000          4.000000        3.000000               2.000000   \n",
       "75%         4.000000          5.000000        4.000000               4.000000   \n",
       "max         5.000000          5.000000        5.000000               5.000000   \n",
       "\n",
       "       FINANZ_HAUSBAUER      FINANZTYP      ...           PLZ8_ANTG1  \\\n",
       "count     798067.000000  798067.000000      ...        774706.000000   \n",
       "mean           3.114092       3.797746      ...             2.253330   \n",
       "std            1.408110       2.084701      ...             0.972008   \n",
       "min            1.000000       1.000000      ...             0.000000   \n",
       "25%            2.000000       2.000000      ...             1.000000   \n",
       "50%            3.000000       4.000000      ...             2.000000   \n",
       "75%            4.000000       6.000000      ...             3.000000   \n",
       "max            5.000000       6.000000      ...             4.000000   \n",
       "\n",
       "          PLZ8_ANTG2     PLZ8_ANTG3     PLZ8_ANTG4    PLZ8_BAUMAX  \\\n",
       "count  774706.000000  774706.000000  774706.000000  774706.000000   \n",
       "mean        2.801858       1.595426       0.699166       1.943913   \n",
       "std         0.920309       0.986736       0.727137       1.459654   \n",
       "min         0.000000       0.000000       0.000000       1.000000   \n",
       "25%         2.000000       1.000000       0.000000       1.000000   \n",
       "50%         3.000000       2.000000       1.000000       1.000000   \n",
       "75%         3.000000       2.000000       1.000000       3.000000   \n",
       "max         4.000000       3.000000       2.000000       5.000000   \n",
       "\n",
       "            PLZ8_HHZ       PLZ8_GBZ         ARBEIT    ORTSGR_KLS9  \\\n",
       "count  774706.000000  774706.000000  793840.000000  793941.000000   \n",
       "mean        3.612821       3.381087       3.166686       5.293397   \n",
       "std         0.973967       1.111598       0.999069       2.303376   \n",
       "min         1.000000       1.000000       1.000000       1.000000   \n",
       "25%         3.000000       3.000000       3.000000       4.000000   \n",
       "50%         4.000000       3.000000       3.000000       5.000000   \n",
       "75%         4.000000       4.000000       4.000000       7.000000   \n",
       "max         5.000000       5.000000       5.000000       9.000000   \n",
       "\n",
       "            RELAT_AB  \n",
       "count  793840.000000  \n",
       "mean        3.071032  \n",
       "std         1.360533  \n",
       "min         1.000000  \n",
       "25%         2.000000  \n",
       "50%         3.000000  \n",
       "75%         4.000000  \n",
       "max         5.000000  \n",
       "\n",
       "[8 rows x 75 columns]"
      ]
     },
     "execution_count": 30,
     "metadata": {},
     "output_type": "execute_result"
    }
   ],
   "source": [
    "subset_2.describe()"
   ]
  },
  {
   "cell_type": "code",
   "execution_count": 31,
   "metadata": {},
   "outputs": [
    {
     "data": {
      "text/plain": [
       "(798067, 79)"
      ]
     },
     "execution_count": 31,
     "metadata": {},
     "output_type": "execute_result"
    }
   ],
   "source": [
    "subset_2.shape"
   ]
  },
  {
   "cell_type": "code",
   "execution_count": 32,
   "metadata": {},
   "outputs": [
    {
     "data": {
      "text/plain": [
       "ANREDE_KZ                False\n",
       "FINANZ_MINIMALIST        False\n",
       "FINANZ_SPARER            False\n",
       "FINANZ_VORSORGER         False\n",
       "FINANZ_ANLEGER           False\n",
       "FINANZ_UNAUFFAELLIGER    False\n",
       "FINANZ_HAUSBAUER         False\n",
       "FINANZTYP                False\n",
       "GREEN_AVANTGARDE         False\n",
       "SEMIO_SOZ                False\n",
       "SEMIO_FAM                False\n",
       "SEMIO_REL                False\n",
       "SEMIO_MAT                False\n",
       "SEMIO_VERT               False\n",
       "SEMIO_LUST               False\n",
       "SEMIO_ERL                False\n",
       "SEMIO_KULT               False\n",
       "SEMIO_RAT                False\n",
       "SEMIO_KRIT               False\n",
       "SEMIO_DOM                False\n",
       "SEMIO_KAEM               False\n",
       "SEMIO_PFLICHT            False\n",
       "SEMIO_TRADV              False\n",
       "ZABEOTYP                 False\n",
       "dtype: bool"
      ]
     },
     "execution_count": 32,
     "metadata": {},
     "output_type": "execute_result"
    }
   ],
   "source": [
    "# Compare the distribution of values for at least five columns where there are\n",
    "# no or few missing values, between the two subsets.\n",
    "\n",
    "# List of columns with no nulls\n",
    "null_flag = azdias.isnull().any()\n",
    "null_flag[null_flag == False]"
   ]
  },
  {
   "cell_type": "code",
   "execution_count": 33,
   "metadata": {},
   "outputs": [
    {
     "name": "stdout",
     "output_type": "stream",
     "text": [
      "Subset 1: \n",
      " count    93154.000000\n",
      "mean         1.527342\n",
      "std          0.499255\n",
      "min          1.000000\n",
      "25%          1.000000\n",
      "50%          2.000000\n",
      "75%          2.000000\n",
      "max          2.000000\n",
      "Name: ANREDE_KZ, dtype: float64 \n",
      "\n",
      "Subset 2: \n",
      " count    798067.000000\n",
      "mean          1.521486\n",
      "std           0.499538\n",
      "min           1.000000\n",
      "25%           1.000000\n",
      "50%           2.000000\n",
      "75%           2.000000\n",
      "max           2.000000\n",
      "Name: ANREDE_KZ, dtype: float64\n"
     ]
    },
    {
     "data": {
      "text/plain": [
       "(array([ 381886.,  416181.]),\n",
       " array([ 1. ,  1.5,  2. ]),\n",
       " <a list of 2 Patch objects>)"
      ]
     },
     "execution_count": 33,
     "metadata": {},
     "output_type": "execute_result"
    },
    {
     "data": {
      "image/png": "[encoded data removed]",
      "text/plain": [
       "<matplotlib.figure.Figure at 0x7ff2a09d1be0>"
      ]
     },
     "metadata": {
      "needs_background": "light"
     },
     "output_type": "display_data"
    }
   ],
   "source": [
    "print('Subset 1: \\n',  subset_1['ANREDE_KZ'].describe(), '\\n')\n",
    "\n",
    "print('Subset 2: \\n', subset_2['ANREDE_KZ'].describe())\n",
    "\n",
    "plt.subplot(1, 2, 1)\n",
    "plt.hist(subset_1['ANREDE_KZ'], bins = 2)\n",
    "plt.subplot(1, 2, 2)\n",
    "plt.hist(subset_2['ANREDE_KZ'], bins = 2)"
   ]
  },
  {
   "cell_type": "code",
   "execution_count": 34,
   "metadata": {},
   "outputs": [
    {
     "name": "stdout",
     "output_type": "stream",
     "text": [
      "Subset 1: \n",
      " count    93154.00000\n",
      "mean         4.68142\n",
      "std          0.87635\n",
      "min          1.00000\n",
      "25%          5.00000\n",
      "50%          5.00000\n",
      "75%          5.00000\n",
      "max          5.00000\n",
      "Name: FINANZ_ANLEGER, dtype: float64 \n",
      "\n",
      "Subset 2: \n",
      " count    798067.000000\n",
      "mean          2.840956\n",
      "std           1.472781\n",
      "min           1.000000\n",
      "25%           1.000000\n",
      "50%           3.000000\n",
      "75%           4.000000\n",
      "max           5.000000\n",
      "Name: FINANZ_ANLEGER, dtype: float64\n"
     ]
    },
    {
     "data": {
      "text/plain": [
       "(array([ 208577.,  158227.,  137946.,  138181.,  155136.]),\n",
       " array([ 1. ,  1.8,  2.6,  3.4,  4.2,  5. ]),\n",
       " <a list of 5 Patch objects>)"
      ]
     },
     "execution_count": 34,
     "metadata": {},
     "output_type": "execute_result"
    },
    {
     "data": {
      "image/png": "[encoded data removed]",
      "text/plain": [
       "<matplotlib.figure.Figure at 0x7ff2a407fc50>"
      ]
     },
     "metadata": {
      "needs_background": "light"
     },
     "output_type": "display_data"
    }
   ],
   "source": [
    "print('Subset 1: \\n',  subset_1['FINANZ_ANLEGER'].describe(), '\\n')\n",
    "\n",
    "print('Subset 2: \\n', subset_2['FINANZ_ANLEGER'].describe())\n",
    "\n",
    "plt.subplot(1, 2, 1)\n",
    "plt.hist(subset_1['FINANZ_ANLEGER'], bins = 5)\n",
    "plt.subplot(1, 2, 2)\n",
    "plt.hist(subset_2['FINANZ_ANLEGER'], bins = 5)"
   ]
  },
  {
   "cell_type": "code",
   "execution_count": 35,
   "metadata": {},
   "outputs": [
    {
     "name": "stdout",
     "output_type": "stream",
     "text": [
      "Subset 1: \n",
      " count    93154.0\n",
      "mean         0.0\n",
      "std          0.0\n",
      "min          0.0\n",
      "25%          0.0\n",
      "50%          0.0\n",
      "75%          0.0\n",
      "max          0.0\n",
      "Name: GREEN_AVANTGARDE, dtype: float64 \n",
      "\n",
      "Subset 2: \n",
      " count    798067.000000\n",
      "mean          0.219562\n",
      "std           0.413950\n",
      "min           0.000000\n",
      "25%           0.000000\n",
      "50%           0.000000\n",
      "75%           0.000000\n",
      "max           1.000000\n",
      "Name: GREEN_AVANTGARDE, dtype: float64\n"
     ]
    },
    {
     "data": {
      "text/plain": [
       "(array([ 622842.,  175225.]),\n",
       " array([ 0. ,  0.5,  1. ]),\n",
       " <a list of 2 Patch objects>)"
      ]
     },
     "execution_count": 35,
     "metadata": {},
     "output_type": "execute_result"
    },
    {
     "data": {
      "image/png": "[encoded data removed]",
      "text/plain": [
       "<matplotlib.figure.Figure at 0x7ff2a3ff2860>"
      ]
     },
     "metadata": {
      "needs_background": "light"
     },
     "output_type": "display_data"
    }
   ],
   "source": [
    "print('Subset 1: \\n',  subset_1['GREEN_AVANTGARDE'].describe(), '\\n')\n",
    "\n",
    "print('Subset 2: \\n', subset_2['GREEN_AVANTGARDE'].describe())\n",
    "\n",
    "plt.subplot(1, 2, 1)\n",
    "plt.hist(subset_1['GREEN_AVANTGARDE'], bins = 2)\n",
    "plt.subplot(1, 2, 2)\n",
    "plt.hist(subset_2['GREEN_AVANTGARDE'], bins = 2)"
   ]
  },
  {
   "cell_type": "code",
   "execution_count": 36,
   "metadata": {},
   "outputs": [
    {
     "name": "stdout",
     "output_type": "stream",
     "text": [
      "Subset 1: \n",
      " count    93154.000000\n",
      "mean         5.636119\n",
      "std          1.290843\n",
      "min          1.000000\n",
      "25%          6.000000\n",
      "50%          6.000000\n",
      "75%          6.000000\n",
      "max          7.000000\n",
      "Name: SEMIO_FAM, dtype: float64 \n",
      "\n",
      "Subset 2: \n",
      " count    798067.000000\n",
      "mean          4.113588\n",
      "std           1.913707\n",
      "min           1.000000\n",
      "25%           2.000000\n",
      "50%           4.000000\n",
      "75%           6.000000\n",
      "max           7.000000\n",
      "Name: SEMIO_FAM, dtype: float64\n"
     ]
    },
    {
     "data": {
      "text/plain": [
       "(array([  75730.,  139562.,   94815.,  133930.,  131841.,  106628.,  115561.]),\n",
       " array([ 1.        ,  1.85714286,  2.71428571,  3.57142857,  4.42857143,\n",
       "         5.28571429,  6.14285714,  7.        ]),\n",
       " <a list of 7 Patch objects>)"
      ]
     },
     "execution_count": 36,
     "metadata": {},
     "output_type": "execute_result"
    },
    {
     "data": {
      "image/png": "[encoded data removed]",
      "text/plain": [
       "<matplotlib.figure.Figure at 0x7ff2a3f36748>"
      ]
     },
     "metadata": {
      "needs_background": "light"
     },
     "output_type": "display_data"
    }
   ],
   "source": [
    "print('Subset 1: \\n',  subset_1['SEMIO_FAM'].describe(), '\\n')\n",
    "\n",
    "print('Subset 2: \\n', subset_2['SEMIO_FAM'].describe())\n",
    "\n",
    "plt.subplot(1, 2, 1)\n",
    "plt.hist(subset_1['SEMIO_FAM'], bins = 7)\n",
    "plt.subplot(1, 2, 2)\n",
    "plt.hist(subset_2['SEMIO_FAM'], bins = 7)"
   ]
  },
  {
   "cell_type": "code",
   "execution_count": 37,
   "metadata": {},
   "outputs": [
    {
     "name": "stdout",
     "output_type": "stream",
     "text": [
      "Subset 1: \n",
      " count    93154.000000\n",
      "mean         3.224113\n",
      "std          0.711373\n",
      "min          1.000000\n",
      "25%          3.000000\n",
      "50%          3.000000\n",
      "75%          3.000000\n",
      "max          6.000000\n",
      "Name: ZABEOTYP, dtype: float64 \n",
      "\n",
      "Subset 2: \n",
      " count    798067.000000\n",
      "mean          3.378584\n",
      "std           1.407775\n",
      "min           1.000000\n",
      "25%           3.000000\n",
      "50%           3.000000\n",
      "75%           4.000000\n",
      "max           6.000000\n",
      "Name: ZABEOTYP, dtype: float64\n"
     ]
    },
    {
     "data": {
      "text/plain": [
       "(array([ 123458.,   33005.,  282243.,  207532.,   80963.,   70866.]),\n",
       " array([ 1.        ,  1.83333333,  2.66666667,  3.5       ,  4.33333333,\n",
       "         5.16666667,  6.        ]),\n",
       " <a list of 6 Patch objects>)"
      ]
     },
     "execution_count": 37,
     "metadata": {},
     "output_type": "execute_result"
    },
    {
     "data": {
      "image/png": "[encoded data removed]",
      "text/plain": [
       "<matplotlib.figure.Figure at 0x7ff2a3e4b400>"
      ]
     },
     "metadata": {
      "needs_background": "light"
     },
     "output_type": "display_data"
    }
   ],
   "source": [
    "print('Subset 1: \\n',  subset_1['ZABEOTYP'].describe(), '\\n')\n",
    "\n",
    "print('Subset 2: \\n', subset_2['ZABEOTYP'].describe())\n",
    "\n",
    "plt.subplot(1, 2, 1)\n",
    "plt.hist(subset_1['ZABEOTYP'], bins = 6)\n",
    "plt.subplot(1, 2, 2)\n",
    "plt.hist(subset_2['ZABEOTYP'], bins = 6)"
   ]
  },
  {
   "cell_type": "markdown",
   "metadata": {},
   "source": [
    "#### Discussion 1.1.3: Assess Missing Data in Each Row\n",
    "\n",
    "For many variables such as FINANZ_ANLEGER (financial topology), SEMIO_FAM (personality topology), ZABEOTYP (energy consumption), and GREEN_AVANTGARDE (environmental sustainability membership) the data that have few/no missing values are qualitatively different than those with lots of missing values. From the histograms and summary statistics, we can see that the values for these variables vary between the two subsets.\n",
    "\n",
    "However, as you can see from the above graphs and summary statistics, the distribution of the variable ANREDE_KZ (gender) does not vary much between the two subsets. "
   ]
  },
  {
   "cell_type": "markdown",
   "metadata": {},
   "source": [
    "### Step 1.2: Select and Re-Encode Features\n",
    "\n",
    "Checking for missing data isn't the only way in which you can prepare a dataset for analysis. Since the unsupervised learning techniques to be used will only work on data that is encoded numerically, you need to make a few encoding changes or additional assumptions to be able to make progress. In addition, while almost all of the values in the dataset are encoded using numbers, not all of them represent numeric values. Check the third column of the feature summary (`feat_info`) for a summary of types of measurement.\n",
    "- For numeric and interval data, these features can be kept without changes.\n",
    "- Most of the variables in the dataset are ordinal in nature. While ordinal values may technically be non-linear in spacing, make the simplifying assumption that the ordinal variables can be treated as being interval in nature (that is, kept without any changes).\n",
    "- Special handling may be necessary for the remaining two variable types: categorical, and 'mixed'.\n",
    "\n",
    "In the first two parts of this sub-step, you will perform an investigation of the categorical and mixed-type features and make a decision on each of them, whether you will keep, drop, or re-encode each. Then, in the last part, you will create a new data frame with only the selected and engineered columns.\n",
    "\n",
    "Data wrangling is often the trickiest part of the data analysis process, and there's a lot of it to be done here. But stick with it: once you're done with this step, you'll be ready to get to the machine learning parts of the project!"
   ]
  },
  {
   "cell_type": "code",
   "execution_count": 38,
   "metadata": {},
   "outputs": [
    {
     "data": {
      "text/plain": [
       "ordinal        49\n",
       "categorical    21\n",
       "mixed           7\n",
       "numeric         7\n",
       "interval        1\n",
       "Name: type, dtype: int64"
      ]
     },
     "execution_count": 38,
     "metadata": {},
     "output_type": "execute_result"
    }
   ],
   "source": [
    "# How many features are there of each data type?\n",
    "\n",
    "feat_info['type'].value_counts()"
   ]
  },
  {
   "cell_type": "code",
   "execution_count": 39,
   "metadata": {},
   "outputs": [
    {
     "data": {
      "text/plain": [
       "0             AGER_TYP\n",
       "2            ANREDE_KZ\n",
       "3        CJT_GESAMTTYP\n",
       "10           FINANZTYP\n",
       "12     GFK_URLAUBERTYP\n",
       "13    GREEN_AVANTGARDE\n",
       "17     LP_FAMILIE_FEIN\n",
       "18     LP_FAMILIE_GROB\n",
       "19      LP_STATUS_FEIN\n",
       "20      LP_STATUS_GROB\n",
       "21    NATIONALITAET_KZ\n",
       "38         SHOPPER_TYP\n",
       "39             SOHO_KZ\n",
       "40            TITEL_KZ\n",
       "41            VERS_TYP\n",
       "42            ZABEOTYP\n",
       "47        KK_KUNDENTYP\n",
       "52         GEBAEUDETYP\n",
       "55         OST_WEST_KZ\n",
       "57     CAMEO_DEUG_2015\n",
       "58      CAMEO_DEU_2015\n",
       "Name: attribute, dtype: object"
      ]
     },
     "execution_count": 39,
     "metadata": {},
     "output_type": "execute_result"
    }
   ],
   "source": [
    "# Find attributes that are categorical\n",
    "categorical_variable_name = feat_info['attribute'][feat_info['type'] == 'categorical']\n",
    "categorical_variable_name"
   ]
  },
  {
   "cell_type": "markdown",
   "metadata": {},
   "source": [
    "#### Step 1.2.1: Re-Encode Categorical Features\n",
    "\n",
    "For categorical data, you would ordinarily need to encode the levels as dummy variables. Depending on the number of categories, perform one of the following:\n",
    "- For binary (two-level) categoricals that take numeric values, you can keep them without needing to do anything.\n",
    "- There is one binary variable that takes on non-numeric values. For this one, you need to re-encode the values as numbers or create a dummy variable.\n",
    "- For multi-level categoricals (three or more values), you can choose to encode the values using multiple dummy variables (e.g. via [OneHotEncoder](http://scikit-learn.org/stable/modules/generated/sklearn.preprocessing.OneHotEncoder.html)), or (to keep things straightforward) just drop them from the analysis. As always, document your choices in the Discussion section."
   ]
  },
  {
   "cell_type": "code",
   "execution_count": 40,
   "metadata": {},
   "outputs": [
    {
     "data": {
      "text/plain": [
       "ANREDE_KZ            2\n",
       "OST_WEST_KZ          2\n",
       "VERS_TYP             2\n",
       "SOHO_KZ              2\n",
       "GREEN_AVANTGARDE     2\n",
       "NATIONALITAET_KZ     3\n",
       "SHOPPER_TYP          4\n",
       "LP_STATUS_GROB       5\n",
       "LP_FAMILIE_GROB      5\n",
       "FINANZTYP            6\n",
       "ZABEOTYP             6\n",
       "CJT_GESAMTTYP        6\n",
       "GEBAEUDETYP          7\n",
       "CAMEO_DEUG_2015      9\n",
       "LP_STATUS_FEIN      10\n",
       "LP_FAMILIE_FEIN     11\n",
       "GFK_URLAUBERTYP     12\n",
       "CAMEO_DEU_2015      44\n",
       "dtype: int64"
      ]
     },
     "execution_count": 40,
     "metadata": {},
     "output_type": "execute_result"
    }
   ],
   "source": [
    "# Assess categorical variables: which are binary, which are multi-level, and\n",
    "# which one needs to be re-encoded?\n",
    "\n",
    "# Number of levels in each categorical column\n",
    "categorical_columns = azdias[azdias.columns.intersection(categorical_variable_name)]\n",
    "categorical_columns.nunique().sort_values(ascending=True)"
   ]
  },
  {
   "cell_type": "code",
   "execution_count": 41,
   "metadata": {},
   "outputs": [
    {
     "data": {
      "text/html": [
       "<div>\n",
       "<style scoped>\n",
       "    .dataframe tbody tr th:only-of-type {\n",
       "        vertical-align: middle;\n",
       "    }\n",
       "\n",
       "    .dataframe tbody tr th {\n",
       "        vertical-align: top;\n",
       "    }\n",
       "\n",
       "    .dataframe thead th {\n",
       "        text-align: right;\n",
       "    }\n",
       "</style>\n",
       "<table border=\"1\" class=\"dataframe\">\n",
       "  <thead>\n",
       "    <tr style=\"text-align: right;\">\n",
       "      <th></th>\n",
       "      <th>ANREDE_KZ</th>\n",
       "      <th>GREEN_AVANTGARDE</th>\n",
       "      <th>SOHO_KZ</th>\n",
       "      <th>VERS_TYP</th>\n",
       "      <th>OST_WEST_KZ</th>\n",
       "    </tr>\n",
       "  </thead>\n",
       "  <tbody>\n",
       "    <tr>\n",
       "      <th>0</th>\n",
       "      <td>1</td>\n",
       "      <td>0</td>\n",
       "      <td>NaN</td>\n",
       "      <td>NaN</td>\n",
       "      <td>NaN</td>\n",
       "    </tr>\n",
       "    <tr>\n",
       "      <th>1</th>\n",
       "      <td>2</td>\n",
       "      <td>0</td>\n",
       "      <td>1.0</td>\n",
       "      <td>2.0</td>\n",
       "      <td>W</td>\n",
       "    </tr>\n",
       "    <tr>\n",
       "      <th>2</th>\n",
       "      <td>2</td>\n",
       "      <td>1</td>\n",
       "      <td>0.0</td>\n",
       "      <td>1.0</td>\n",
       "      <td>W</td>\n",
       "    </tr>\n",
       "    <tr>\n",
       "      <th>3</th>\n",
       "      <td>2</td>\n",
       "      <td>0</td>\n",
       "      <td>0.0</td>\n",
       "      <td>1.0</td>\n",
       "      <td>W</td>\n",
       "    </tr>\n",
       "    <tr>\n",
       "      <th>4</th>\n",
       "      <td>1</td>\n",
       "      <td>0</td>\n",
       "      <td>0.0</td>\n",
       "      <td>2.0</td>\n",
       "      <td>W</td>\n",
       "    </tr>\n",
       "  </tbody>\n",
       "</table>\n",
       "</div>"
      ],
      "text/plain": [
       "   ANREDE_KZ  GREEN_AVANTGARDE  SOHO_KZ  VERS_TYP OST_WEST_KZ\n",
       "0          1                 0      NaN       NaN         NaN\n",
       "1          2                 0      1.0       2.0           W\n",
       "2          2                 1      0.0       1.0           W\n",
       "3          2                 0      0.0       1.0           W\n",
       "4          1                 0      0.0       2.0           W"
      ]
     },
     "execution_count": 41,
     "metadata": {},
     "output_type": "execute_result"
    }
   ],
   "source": [
    "# Re-encode categorical variable(s) to be kept in the analysis.\n",
    "categorical_columns.loc[:,categorical_columns.nunique()==2].head()"
   ]
  },
  {
   "cell_type": "code",
   "execution_count": 42,
   "metadata": {},
   "outputs": [
    {
     "data": {
      "text/plain": [
       "W    629528\n",
       "O    168545\n",
       "Name: OST_WEST_KZ, dtype: int64"
      ]
     },
     "execution_count": 42,
     "metadata": {},
     "output_type": "execute_result"
    }
   ],
   "source": [
    "azdias['OST_WEST_KZ'].value_counts()"
   ]
  },
  {
   "cell_type": "code",
   "execution_count": 43,
   "metadata": {},
   "outputs": [
    {
     "data": {
      "text/plain": [
       "0.0    629528\n",
       "1.0    168545\n",
       "Name: OST_WEST_KZ, dtype: int64"
      ]
     },
     "execution_count": 43,
     "metadata": {},
     "output_type": "execute_result"
    }
   ],
   "source": [
    "# re-encode OST_WEST_KZ column with 0,1 instead of W, O\n",
    "azdias['OST_WEST_KZ'] = azdias['OST_WEST_KZ'].replace('W', 0).replace('O', 1)\n",
    "azdias['OST_WEST_KZ'].value_counts()"
   ]
  },
  {
   "cell_type": "code",
   "execution_count": 44,
   "metadata": {},
   "outputs": [],
   "source": [
    "# Remove multi-level variables from the dataset\n",
    "multi_level_columns = categorical_columns.loc[:,categorical_columns.nunique()>2].columns\n",
    "\n",
    "azdias = azdias.drop(columns = multi_level_columns)"
   ]
  },
  {
   "cell_type": "code",
   "execution_count": 45,
   "metadata": {},
   "outputs": [
    {
     "data": {
      "text/plain": [
       "(891221, 66)"
      ]
     },
     "execution_count": 45,
     "metadata": {},
     "output_type": "execute_result"
    }
   ],
   "source": [
    "azdias.shape"
   ]
  },
  {
   "cell_type": "markdown",
   "metadata": {},
   "source": [
    "#### Discussion 1.2.1: Re-Encode Categorical Features\n",
    "\n",
    "\n",
    "I kept all binary variables (ANREDE_KZ, OST_WEST_KZ, VERS_TYP, SOHO_KZ, GREEN_AVANTGARDE). I re-encoded the binary variable OST_WEST_KZ to created a dummy variable. I deleted all multi-level categorical variables. "
   ]
  },
  {
   "cell_type": "markdown",
   "metadata": {},
   "source": [
    "#### Step 1.2.2: Engineer Mixed-Type Features\n",
    "\n",
    "There are a handful of features that are marked as \"mixed\" in the feature summary that require special treatment in order to be included in the analysis. There are two in particular that deserve attention; the handling of the rest are up to your own choices:\n",
    "- \"PRAEGENDE_JUGENDJAHRE\" combines information on three dimensions: generation by decade, movement (mainstream vs. avantgarde), and nation (east vs. west). While there aren't enough levels to disentangle east from west, you should create two new variables to capture the other two dimensions: an interval-type variable for decade, and a binary variable for movement.\n",
    "- \"CAMEO_INTL_2015\" combines information on two axes: wealth and life stage. Break up the two-digit codes by their 'tens'-place and 'ones'-place digits into two new ordinal variables (which, for the purposes of this project, is equivalent to just treating them as their raw numeric values).\n",
    "- If you decide to keep or engineer new features around the other mixed-type features, make sure you note your steps in the Discussion section.\n",
    "\n",
    "Be sure to check `Data_Dictionary.md` for the details needed to finish these tasks."
   ]
  },
  {
   "cell_type": "code",
   "execution_count": 46,
   "metadata": {},
   "outputs": [
    {
     "data": {
      "text/html": [
       "<div>\n",
       "<style scoped>\n",
       "    .dataframe tbody tr th:only-of-type {\n",
       "        vertical-align: middle;\n",
       "    }\n",
       "\n",
       "    .dataframe tbody tr th {\n",
       "        vertical-align: top;\n",
       "    }\n",
       "\n",
       "    .dataframe thead th {\n",
       "        text-align: right;\n",
       "    }\n",
       "</style>\n",
       "<table border=\"1\" class=\"dataframe\">\n",
       "  <thead>\n",
       "    <tr style=\"text-align: right;\">\n",
       "      <th></th>\n",
       "      <th>attribute</th>\n",
       "      <th>information_level</th>\n",
       "      <th>type</th>\n",
       "      <th>missing_or_unknown</th>\n",
       "    </tr>\n",
       "  </thead>\n",
       "  <tbody>\n",
       "    <tr>\n",
       "      <th>15</th>\n",
       "      <td>LP_LEBENSPHASE_FEIN</td>\n",
       "      <td>person</td>\n",
       "      <td>mixed</td>\n",
       "      <td>[0]</td>\n",
       "    </tr>\n",
       "    <tr>\n",
       "      <th>16</th>\n",
       "      <td>LP_LEBENSPHASE_GROB</td>\n",
       "      <td>person</td>\n",
       "      <td>mixed</td>\n",
       "      <td>[0]</td>\n",
       "    </tr>\n",
       "    <tr>\n",
       "      <th>22</th>\n",
       "      <td>PRAEGENDE_JUGENDJAHRE</td>\n",
       "      <td>person</td>\n",
       "      <td>mixed</td>\n",
       "      <td>[-1, 0]</td>\n",
       "    </tr>\n",
       "    <tr>\n",
       "      <th>56</th>\n",
       "      <td>WOHNLAGE</td>\n",
       "      <td>building</td>\n",
       "      <td>mixed</td>\n",
       "      <td>[-1]</td>\n",
       "    </tr>\n",
       "    <tr>\n",
       "      <th>59</th>\n",
       "      <td>CAMEO_INTL_2015</td>\n",
       "      <td>microcell_rr4</td>\n",
       "      <td>mixed</td>\n",
       "      <td>[-1, XX]</td>\n",
       "    </tr>\n",
       "    <tr>\n",
       "      <th>64</th>\n",
       "      <td>KBA05_BAUMAX</td>\n",
       "      <td>microcell_rr3</td>\n",
       "      <td>mixed</td>\n",
       "      <td>[-1, 0]</td>\n",
       "    </tr>\n",
       "    <tr>\n",
       "      <th>79</th>\n",
       "      <td>PLZ8_BAUMAX</td>\n",
       "      <td>macrocell_plz8</td>\n",
       "      <td>mixed</td>\n",
       "      <td>[-1, 0]</td>\n",
       "    </tr>\n",
       "  </tbody>\n",
       "</table>\n",
       "</div>"
      ],
      "text/plain": [
       "                attribute information_level   type missing_or_unknown\n",
       "15    LP_LEBENSPHASE_FEIN            person  mixed                [0]\n",
       "16    LP_LEBENSPHASE_GROB            person  mixed                [0]\n",
       "22  PRAEGENDE_JUGENDJAHRE            person  mixed            [-1, 0]\n",
       "56               WOHNLAGE          building  mixed               [-1]\n",
       "59        CAMEO_INTL_2015     microcell_rr4  mixed           [-1, XX]\n",
       "64           KBA05_BAUMAX     microcell_rr3  mixed            [-1, 0]\n",
       "79            PLZ8_BAUMAX    macrocell_plz8  mixed            [-1, 0]"
      ]
     },
     "execution_count": 46,
     "metadata": {},
     "output_type": "execute_result"
    }
   ],
   "source": [
    "# View mixed variables\n",
    "feat_info[feat_info['type'] == 'mixed']"
   ]
  },
  {
   "cell_type": "code",
   "execution_count": 47,
   "metadata": {},
   "outputs": [
    {
     "data": {
      "text/plain": [
       "14.0    188697\n",
       "8.0     145988\n",
       "5.0      86416\n",
       "10.0     85808\n",
       "3.0      55195\n",
       "15.0     42547\n",
       "11.0     35752\n",
       "9.0      33570\n",
       "6.0      25652\n",
       "12.0     24446\n",
       "1.0      21282\n",
       "4.0      20451\n",
       "2.0       7479\n",
       "13.0      5764\n",
       "7.0       4010\n",
       "Name: PRAEGENDE_JUGENDJAHRE, dtype: int64"
      ]
     },
     "execution_count": 47,
     "metadata": {},
     "output_type": "execute_result"
    }
   ],
   "source": [
    "# Investigate \"PRAEGENDE_JUGENDJAHRE\" and engineer two new variables.\n",
    "azdias['PRAEGENDE_JUGENDJAHRE'].value_counts()"
   ]
  },
  {
   "cell_type": "code",
   "execution_count": 48,
   "metadata": {},
   "outputs": [
    {
     "data": {
      "text/plain": [
       "6.0    231244\n",
       "4.0    179558\n",
       "5.0    151770\n",
       "3.0    116078\n",
       "2.0     75646\n",
       "1.0     28761\n",
       "Name: Decade, dtype: int64"
      ]
     },
     "execution_count": 48,
     "metadata": {},
     "output_type": "execute_result"
    }
   ],
   "source": [
    "# Engineer two new variables\n",
    "\n",
    "# Create Decade varaible\n",
    "decade_replace_values = {1:1, 2:1,\n",
    "                        3:2, 4:2,\n",
    "                        5:3, 6:3, 7:3,\n",
    "                        8:4, 9:4,\n",
    "                        10:5, 11:5, 12:5, 13:5,\n",
    "                        14:6, 15:6}\n",
    "azdias['Decade'] = azdias['PRAEGENDE_JUGENDJAHRE']\n",
    "azdias['Decade'] = azdias['Decade'].replace(decade_replace_values)\n",
    "\n",
    "azdias['Decade'].value_counts()"
   ]
  },
  {
   "cell_type": "code",
   "execution_count": 49,
   "metadata": {},
   "outputs": [
    {
     "data": {
      "text/plain": [
       "1.0    476529\n",
       "0.0    306528\n",
       "Name: Movement, dtype: int64"
      ]
     },
     "execution_count": 49,
     "metadata": {},
     "output_type": "execute_result"
    }
   ],
   "source": [
    "# Create Movement Variable\n",
    "\n",
    "movement_replace_values = {1:0, 2:1,\n",
    "                        3:0, 4:1,\n",
    "                        5:1, 6:1, 7:1,\n",
    "                        8:0, 9:1,\n",
    "                        10:1, 11:0, 12:1, 13:0,\n",
    "                        14:1, 15:0}\n",
    "azdias['Movement'] = azdias['PRAEGENDE_JUGENDJAHRE']\n",
    "azdias['Movement'] = azdias['Movement'].replace(movement_replace_values)\n",
    "\n",
    "azdias['Movement'].value_counts()"
   ]
  },
  {
   "cell_type": "code",
   "execution_count": 50,
   "metadata": {},
   "outputs": [
    {
     "data": {
      "text/plain": [
       "51    133694\n",
       "41     92336\n",
       "24     91158\n",
       "14     62884\n",
       "43     56672\n",
       "54     45391\n",
       "25     39628\n",
       "22     33155\n",
       "23     26750\n",
       "13     26336\n",
       "45     26132\n",
       "55     23955\n",
       "52     20542\n",
       "31     19024\n",
       "34     18524\n",
       "15     16974\n",
       "44     14820\n",
       "12     13249\n",
       "35     10356\n",
       "32     10354\n",
       "33      9935\n",
       "Name: CAMEO_INTL_2015, dtype: int64"
      ]
     },
     "execution_count": 50,
     "metadata": {},
     "output_type": "execute_result"
    }
   ],
   "source": [
    "# Investigate \"CAMEO_INTL_2015\" and engineer two new variables.\n",
    "azdias['CAMEO_INTL_2015'].value_counts()"
   ]
  },
  {
   "cell_type": "code",
   "execution_count": 51,
   "metadata": {},
   "outputs": [],
   "source": [
    "# Engineer two new variables\n",
    "\n",
    "# Create Wealth variable\n",
    "wealth_replace_values = {'11':1, '12':1, '13':1, '14':1, '15':1,\n",
    "                        '21':2, '22':2, '23':2, '24':2, '25':2,\n",
    "                        '31':3, '32':3, '33':3, '34':3, '35':3,\n",
    "                        '41':4, '42':4, '43':4, '44':4, '45':4,\n",
    "                        '51':5, '52':5, '53':5, '54':5, '55':5}\n",
    "azdias['Wealth'] = azdias['CAMEO_INTL_2015']\n",
    "azdias['Wealth'] = azdias['Wealth'].replace( wealth_replace_values)\n"
   ]
  },
  {
   "cell_type": "code",
   "execution_count": 52,
   "metadata": {},
   "outputs": [
    {
     "data": {
      "text/plain": [
       "5.0    223582\n",
       "2.0    190691\n",
       "4.0    189960\n",
       "1.0    119443\n",
       "3.0     68193\n",
       "Name: Wealth, dtype: int64"
      ]
     },
     "execution_count": 52,
     "metadata": {},
     "output_type": "execute_result"
    }
   ],
   "source": [
    "azdias['Wealth'].value_counts()"
   ]
  },
  {
   "cell_type": "code",
   "execution_count": 53,
   "metadata": {},
   "outputs": [],
   "source": [
    "# Create Life_Stage variable\n",
    "\n",
    "life_stage_replace_values = {'11':1, '21':1, '31':1, '41':1, '51':1,\n",
    "                        '12':2, '22':2, '32':2, '42':2, '52':2,\n",
    "                        '13':3, '23':3, '33':3, '43':3, '53':3,\n",
    "                        '14':4, '24':4, '34':4, '44':4, '54':4,\n",
    "                        '15':5, '25':5, '35':5, '45':5, '55':5}\n",
    "azdias['Life_Stage'] = azdias['CAMEO_INTL_2015']\n",
    "azdias['Life_Stage'] = azdias['Life_Stage'].replace(life_stage_replace_values)"
   ]
  },
  {
   "cell_type": "code",
   "execution_count": 54,
   "metadata": {},
   "outputs": [
    {
     "data": {
      "text/plain": [
       "1.0    245054\n",
       "4.0    232777\n",
       "3.0    119693\n",
       "5.0    117045\n",
       "2.0     77300\n",
       "Name: Life_Stage, dtype: int64"
      ]
     },
     "execution_count": 54,
     "metadata": {},
     "output_type": "execute_result"
    }
   ],
   "source": [
    "azdias['Life_Stage'].value_counts()"
   ]
  },
  {
   "cell_type": "code",
   "execution_count": 55,
   "metadata": {},
   "outputs": [],
   "source": [
    "# drop remaining mixed variables\n",
    "azdias = azdias.drop(['LP_LEBENSPHASE_FEIN', 'LP_LEBENSPHASE_GROB',\n",
    "                      'WOHNLAGE', 'PLZ8_BAUMAX'], axis = 1)\n"
   ]
  },
  {
   "cell_type": "markdown",
   "metadata": {},
   "source": [
    "#### Discussion 1.2.2: Engineer Mixed-Type Features\n",
    "\n",
    "There were 7 mixed variables in this data. Of the seven variables I dropped 5 (KBA05_BAUMAX had been dropped in previous step) and re-engineered 2. I created four new variables from these engineered variables. From the PRAEGENDE_JUGENDJAHRE variable, I created movement and decade variables based on the values in the original column. From the CAMEO_INTL_2015, I created life stage and wealth variables. I then dropped the original PRAEGENDE_JUGENDJAHRE and CAMEO_INTL_2015 columns."
   ]
  },
  {
   "cell_type": "markdown",
   "metadata": {},
   "source": [
    "#### Step 1.2.3: Complete Feature Selection\n",
    "\n",
    "In order to finish this step up, you need to make sure that your data frame now only has the columns that you want to keep. To summarize, the dataframe should consist of the following:\n",
    "- All numeric, interval, and ordinal type columns from the original dataset.\n",
    "- Binary categorical features (all numerically-encoded).\n",
    "- Engineered features from other multi-level categorical features and mixed features.\n",
    "\n",
    "Make sure that for any new columns that you have engineered, that you've excluded the original columns from the final dataset. Otherwise, their values will interfere with the analysis later on the project. For example, you should not keep \"PRAEGENDE_JUGENDJAHRE\", since its values won't be useful for the algorithm: only the values derived from it in the engineered features you created should be retained. As a reminder, your data should only be from **the subset with few or no missing values**."
   ]
  },
  {
   "cell_type": "code",
   "execution_count": 56,
   "metadata": {},
   "outputs": [
    {
     "data": {
      "text/plain": [
       "(891221, 64)"
      ]
     },
     "execution_count": 56,
     "metadata": {},
     "output_type": "execute_result"
    }
   ],
   "source": [
    "# If there are other re-engineering tasks you need to perform, make sure you\n",
    "# take care of them here. (Dealing with missing data will come in step 2.1.)\n",
    "\n",
    "\n",
    "# drop original columns from dataset\n",
    "azdias = azdias.drop('PRAEGENDE_JUGENDJAHRE', 1)\n",
    "azdias = azdias.drop('CAMEO_INTL_2015', 1)\n",
    "\n",
    "azdias.shape"
   ]
  },
  {
   "cell_type": "markdown",
   "metadata": {},
   "source": [
    "### Step 1.3: Create a Cleaning Function\n",
    "\n",
    "Even though you've finished cleaning up the general population demographics data, it's important to look ahead to the future and realize that you'll need to perform the same cleaning steps on the customer demographics data. In this substep, complete the function below to execute the main feature selection, encoding, and re-engineering steps you performed above. Then, when it comes to looking at the customer data in Step 3, you can just run this function on that DataFrame to get the trimmed dataset in a single step."
   ]
  },
  {
   "cell_type": "code",
   "execution_count": 57,
   "metadata": {},
   "outputs": [],
   "source": [
    "def clean_data(df):\n",
    "    \"\"\"\n",
    "    Perform feature trimming, re-encoding, and engineering for demographics\n",
    "    data\n",
    "    \n",
    "    INPUT: Demographics DataFrame\n",
    "    OUTPUT: Trimmed and cleaned demographics DataFrame\n",
    "    \"\"\"\n",
    "    \n",
    "    # Put in code here to execute all main cleaning steps:\n",
    "    # convert missing value codes into NaNs, ...\n",
    "        \n",
    "    for i in range(len(feat_info)):\n",
    "        missing_or_unknown = feat_info.iloc[i]['missing_or_unknown'] \n",
    "        missing_or_unknown = [int(value) if (value!='X' and value!='XX' and value!='') \n",
    "                          else value for value in missing_or_unknown] \n",
    "        if missing_or_unknown != ['']:\n",
    "            df = df.replace({feat_info.iloc[i]['attribute']: missing_or_unknown}, np.nan)\n",
    "    \n",
    "    # remove selected columns and rows, ...\n",
    "    # remove outlier columns\n",
    "    percent_null = azdias.isnull().sum()/len(azdias) * 100\n",
    "    outlier_condition = percent_null.mean() + 1.5* (np.percentile(percent_null, 75) - np.percentile(percent_null, 25))\n",
    "    df = df.drop(['AGER_TYP', 'GEBURTSJAHR', 'TITEL_KZ', 'ALTER_HH', 'KK_KUNDENTYP', 'KBA05_BAUMAX'], axis = 1)\n",
    "\n",
    "    # remove rows that are above cut-off\n",
    "    df = df[df.isnull().sum(axis = 1) <= outlier_condition]\n",
    "    \n",
    "    # select, re-encode, and engineer column values.\n",
    "    df['OST_WEST_KZ'] = df['OST_WEST_KZ'].replace('W', 0).replace('O', 1)\n",
    "\n",
    "    categorical_variable_name = feat_info['attribute'][feat_info['type'] == 'categorical']\n",
    "    categorical_columns = df[df.columns.intersection(categorical_variable_name)]\n",
    "    multi_level_columns = categorical_columns.loc[:,categorical_columns.nunique()>2].columns\n",
    "    df = df.drop(columns = multi_level_columns)\n",
    "\n",
    "\n",
    "    decade_replace_values = {1:1, 2:1,\n",
    "                            3:2, 4:2,\n",
    "                            5:3, 6:3, 7:3,\n",
    "                            8:4, 9:4,\n",
    "                            10:5, 11:5, 12:5, 13:5,\n",
    "                            14:6, 15:6}\n",
    "    df['Decade'] = df['PRAEGENDE_JUGENDJAHRE']\n",
    "    df['Decade'] = df['Decade'].replace(decade_replace_values)\n",
    "\n",
    "    movement_replace_values = {1:0, 2:1,\n",
    "                            3:0, 4:1,\n",
    "                            5:1, 6:1, 7:1,\n",
    "                            8:0, 9:1,\n",
    "                            10:1, 11:0, 12:1, 13:0,\n",
    "                            14:1, 15:0}\n",
    "    df['Movement'] = df['PRAEGENDE_JUGENDJAHRE']\n",
    "    df['Movement'] = df['Movement'].replace(movement_replace_values)\n",
    "\n",
    "    wealth_replace_values = {11:1, 12:1, 13:1, 14:1, 15:1,\n",
    "                            21:2, 22:2, 23:2, 24:2, 25:2,\n",
    "                            31:3, 32:3, 33:3, 34:3, 35:3,\n",
    "                            41:4, 42:4, 43:4, 44:4, 45:4,\n",
    "                            51:5, 52:5, 53:5, 54:5, 55:5}\n",
    "    df['Wealth'] = df['CAMEO_INTL_2015']\n",
    "    df['Wealth'] = df.replace({'Wealth': wealth_replace_values})\n",
    "\n",
    "    life_stage_replace_values = {11:1, 21:1, 31:1, 41:1, 51:1,\n",
    "                            12:2, 22:2, 32:2, 42:2, 52:2,\n",
    "                            13:3, 23:3, 33:3, 43:3, 53:3,\n",
    "                            14:4, 24:4, 34:4, 44:4, 54:4,\n",
    "                            15:5, 25:5, 35:5, 45:5, 55:5}\n",
    "    df['Life_Stage'] = df['CAMEO_INTL_2015']\n",
    "    df['Life_Stage'] = df.replace({'Life_Stage': life_stage_replace_values})\n",
    "\n",
    "    df = df.drop(['LP_LEBENSPHASE_FEIN', 'LP_LEBENSPHASE_GROB',\n",
    "                          'WOHNLAGE', 'PLZ8_BAUMAX'], axis = 1)\n",
    "    df = df.drop('PRAEGENDE_JUGENDJAHRE', 1)\n",
    "    df = df.drop('CAMEO_INTL_2015', 1)\n",
    "    \n",
    "    # Return the cleaned dataframe.\n",
    "    return df\n",
    "    \n",
    "    "
   ]
  },
  {
   "cell_type": "markdown",
   "metadata": {},
   "source": [
    "## Step 2: Feature Transformation\n",
    "\n",
    "### Step 2.1: Apply Feature Scaling\n",
    "\n",
    "Before we apply dimensionality reduction techniques to the data, we need to perform feature scaling so that the principal component vectors are not influenced by the natural differences in scale for features. Starting from this part of the project, you'll want to keep an eye on the [API reference page for sklearn](http://scikit-learn.org/stable/modules/classes.html) to help you navigate to all of the classes and functions that you'll need. In this substep, you'll need to check the following:\n",
    "\n",
    "- sklearn requires that data not have missing values in order for its estimators to work properly. So, before applying the scaler to your data, make sure that you've cleaned the DataFrame of the remaining missing values. This can be as simple as just removing all data points with missing data, or applying an [Imputer](https://scikit-learn.org/0.16/modules/generated/sklearn.preprocessing.Imputer.html) to replace all missing values. You might also try a more complicated procedure where you temporarily remove missing values in order to compute the scaling parameters before re-introducing those missing values and applying imputation. Think about how much missing data you have and what possible effects each approach might have on your analysis, and justify your decision in the discussion section below.\n",
    "- For the actual scaling function, a [StandardScaler](http://scikit-learn.org/stable/modules/generated/sklearn.preprocessing.StandardScaler.html) instance is suggested, scaling each feature to mean 0 and standard deviation 1.\n",
    "- For these classes, you can make use of the `.fit_transform()` method to both fit a procedure to the data as well as apply the transformation to the data at the same time. Don't forget to keep the fit sklearn objects handy, since you'll be applying them to the customer demographics data towards the end of the project."
   ]
  },
  {
   "cell_type": "code",
   "execution_count": 58,
   "metadata": {},
   "outputs": [],
   "source": [
    "# If you've not yet cleaned the dataset of all NaN values, then investigate and\n",
    "# do that now.\n",
    "\n",
    "# remove all observations with missing values\n",
    "azdias = azdias.dropna(axis =0)\n"
   ]
  },
  {
   "cell_type": "code",
   "execution_count": 59,
   "metadata": {},
   "outputs": [
    {
     "data": {
      "text/plain": [
       "(623211, 64)"
      ]
     },
     "execution_count": 59,
     "metadata": {},
     "output_type": "execute_result"
    }
   ],
   "source": [
    "azdias.shape"
   ]
  },
  {
   "cell_type": "code",
   "execution_count": 60,
   "metadata": {},
   "outputs": [],
   "source": [
    "# Apply feature scaling to the general population demographics data.\n",
    "\n",
    "scaler = StandardScaler()\n",
    "azdias_scaled = scaler.fit_transform(azdias)\n"
   ]
  },
  {
   "cell_type": "markdown",
   "metadata": {},
   "source": [
    "### Discussion 2.1: Apply Feature Scaling\n",
    "\n",
    "For feature scaling, I decided to use Standard Scaler which scales each feature to have a mean of 0 and standard deviation of 1.\n",
    "\n",
    "To handle missing values, I decided to remove all missing values from the dataset. As imputation can lead to bias depending on the method used to compute and can be time and resource consuming, I decided to go with the simpler approach of removing all missing values. When the missing values are removed, there are still 623,211 observations, which is plenty to fit our model. "
   ]
  },
  {
   "cell_type": "markdown",
   "metadata": {},
   "source": [
    "### Step 2.2: Perform Dimensionality Reduction\n",
    "\n",
    "On your scaled data, you are now ready to apply dimensionality reduction techniques.\n",
    "\n",
    "- Use sklearn's [PCA](http://scikit-learn.org/stable/modules/generated/sklearn.decomposition.PCA.html) class to apply principal component analysis on the data, thus finding the vectors of maximal variance in the data. To start, you should not set any parameters (so all components are computed) or set a number of components that is at least half the number of features (so there's enough features to see the general trend in variability).\n",
    "- Check out the ratio of variance explained by each principal component as well as the cumulative variance explained. Try plotting the cumulative or sequential values using matplotlib's [`plot()`](https://matplotlib.org/api/_as_gen/matplotlib.pyplot.plot.html) function. Based on what you find, select a value for the number of transformed features you'll retain for the clustering part of the project.\n",
    "- Once you've made a choice for the number of components to keep, make sure you re-fit a PCA instance to perform the decided-on transformation."
   ]
  },
  {
   "cell_type": "code",
   "execution_count": 61,
   "metadata": {},
   "outputs": [
    {
     "data": {
      "text/plain": [
       "PCA(copy=True, iterated_power='auto', n_components=None, random_state=None,\n",
       "  svd_solver='auto', tol=0.0, whiten=False)"
      ]
     },
     "execution_count": 61,
     "metadata": {},
     "output_type": "execute_result"
    }
   ],
   "source": [
    "# Apply PCA to the data.\n",
    "pca = PCA()\n",
    "pca.fit(azdias_scaled)\n"
   ]
  },
  {
   "cell_type": "code",
   "execution_count": 62,
   "metadata": {},
   "outputs": [
    {
     "data": {
      "image/png": "[encoded data removed]",
      "text/plain": [
       "<matplotlib.figure.Figure at 0x7ff2a09f0a20>"
      ]
     },
     "metadata": {
      "needs_background": "light"
     },
     "output_type": "display_data"
    }
   ],
   "source": [
    "# Investigate the variance accounted for by each principal component.\n",
    "\n",
    "def scree_plot(pca):\n",
    "    num_components = len(pca.explained_variance_ratio_)\n",
    "    ind = np.arange(num_components)\n",
    "    vals = pca.explained_variance_ratio_\n",
    " \n",
    "    plt.figure(figsize=(10, 6))\n",
    "    ax = plt.subplot(111)\n",
    "    cumvals = np.cumsum(vals)\n",
    "    ax.bar(ind, vals)\n",
    "    ax.plot(ind, cumvals)\n",
    "    for i in range(num_components):\n",
    "        ax.annotate(r\"%s%%\" % ((str(vals[i]*100)[:4])), (ind[i]+0.2, vals[i]), va=\"bottom\", ha=\"center\", fontsize=12)\n",
    " \n",
    "    ax.xaxis.set_tick_params(width=0)\n",
    "    ax.yaxis.set_tick_params(width=2, length=12)\n",
    " \n",
    "    ax.set_xlabel(\"Principal Component\")\n",
    "    ax.set_ylabel(\"Variance Explained (%)\")\n",
    "    plt.title('Explained Variance Per Principal Component')\n",
    "    \n",
    "\n",
    "scree_plot(pca)"
   ]
  },
  {
   "cell_type": "code",
   "execution_count": 63,
   "metadata": {},
   "outputs": [
    {
     "data": {
      "text/plain": [
       "0.99999999999999989"
      ]
     },
     "execution_count": 63,
     "metadata": {},
     "output_type": "execute_result"
    }
   ],
   "source": [
    "# variance explained by all components\n",
    "pca.explained_variance_ratio_.sum()\n"
   ]
  },
  {
   "cell_type": "code",
   "execution_count": 64,
   "metadata": {},
   "outputs": [],
   "source": [
    "# Re-apply PCA to the data while selecting for number of components to retain.\n",
    "pca_updated = PCA(n_components = 45)\n",
    "azdias_pca = pca_updated.fit_transform(azdias_scaled)\n"
   ]
  },
  {
   "cell_type": "code",
   "execution_count": 65,
   "metadata": {},
   "outputs": [
    {
     "data": {
      "image/png": "[encoded data removed]",
      "text/plain": [
       "<matplotlib.figure.Figure at 0x7ff2a09e9978>"
      ]
     },
     "metadata": {
      "needs_background": "light"
     },
     "output_type": "display_data"
    }
   ],
   "source": [
    "scree_plot(pca_updated)"
   ]
  },
  {
   "cell_type": "code",
   "execution_count": 66,
   "metadata": {},
   "outputs": [
    {
     "data": {
      "text/plain": [
       "0.9583377628441575"
      ]
     },
     "execution_count": 66,
     "metadata": {},
     "output_type": "execute_result"
    }
   ],
   "source": [
    "# Variance explained by 45 components\n",
    "pca_updated.explained_variance_ratio_.sum()"
   ]
  },
  {
   "cell_type": "markdown",
   "metadata": {},
   "source": [
    "### Discussion 2.2: Perform Dimensionality Reduction\n",
    "\n",
    "\n",
    "I am retaining 45 components as this explains over 95% of the variance in the data while also reducing the number of components by about 25."
   ]
  },
  {
   "cell_type": "markdown",
   "metadata": {},
   "source": [
    "### Step 2.3: Interpret Principal Components\n",
    "\n",
    "Now that we have our transformed principal components, it's a nice idea to check out the weight of each variable on the first few components to see if they can be interpreted in some fashion.\n",
    "\n",
    "As a reminder, each principal component is a unit vector that points in the direction of highest variance (after accounting for the variance captured by earlier principal components). The further a weight is from zero, the more the principal component is in the direction of the corresponding feature. If two features have large weights of the same sign (both positive or both negative), then increases in one tend expect to be associated with increases in the other. To contrast, features with different signs can be expected to show a negative correlation: increases in one variable should result in a decrease in the other.\n",
    "\n",
    "- To investigate the features, you should map each weight to their corresponding feature name, then sort the features according to weight. The most interesting features for each principal component, then, will be those at the beginning and end of the sorted list. Use the data dictionary document to help you understand these most prominent features, their relationships, and what a positive or negative value on the principal component might indicate.\n",
    "- You should investigate and interpret feature associations from the first three principal components in this substep. To help facilitate this, you should write a function that you can call at any time to print the sorted list of feature weights, for the *i*-th principal component. This might come in handy in the next step of the project, when you interpret the tendencies of the discovered clusters."
   ]
  },
  {
   "cell_type": "code",
   "execution_count": 67,
   "metadata": {},
   "outputs": [
    {
     "data": {
      "text/plain": [
       "PLZ8_ANTG3               0.213884\n",
       "PLZ8_ANTG4               0.207601\n",
       "Wealth                   0.194261\n",
       "HH_EINKOMMEN_SCORE       0.189274\n",
       "ORTSGR_KLS9              0.186834\n",
       "EWDICHTE                 0.183754\n",
       "FINANZ_SPARER            0.171294\n",
       "KBA05_ANTG4              0.145028\n",
       "PLZ8_ANTG2               0.142084\n",
       "FINANZ_HAUSBAUER         0.141514\n",
       "SEMIO_PFLICHT            0.139928\n",
       "SEMIO_REL                0.138234\n",
       "ARBEIT                   0.137413\n",
       "Decade                   0.133178\n",
       "KBA05_ANTG3              0.129820\n",
       "ANZ_HAUSHALTE_AKTIV      0.128859\n",
       "SEMIO_TRADV              0.126496\n",
       "RELAT_AB                 0.125592\n",
       "SEMIO_RAT                0.114229\n",
       "SEMIO_MAT                0.102074\n",
       "FINANZ_UNAUFFAELLIGER    0.101382\n",
       "SEMIO_FAM                0.099698\n",
       "SEMIO_KULT               0.098416\n",
       "FINANZ_ANLEGER           0.089603\n",
       "REGIOTYP                 0.068933\n",
       "OST_WEST_KZ              0.058553\n",
       "SEMIO_SOZ                0.056509\n",
       "Movement                 0.043953\n",
       "KKK                      0.041740\n",
       "HEALTH_TYP               0.038968\n",
       "                           ...   \n",
       "VERS_TYP                 0.017835\n",
       "SEMIO_DOM                0.011797\n",
       "KBA05_ANTG2              0.007768\n",
       "SOHO_KZ                 -0.002002\n",
       "ANZ_TITEL               -0.005053\n",
       "ANREDE_KZ               -0.006704\n",
       "SEMIO_KRIT              -0.011439\n",
       "ONLINE_AFFINITAET       -0.018362\n",
       "SEMIO_VERT              -0.022245\n",
       "MIN_GEBAEUDEJAHR        -0.034444\n",
       "RETOURTYP_BK_S          -0.042292\n",
       "WOHNDAUER_2008          -0.070551\n",
       "ANZ_PERSONEN            -0.074474\n",
       "KBA13_ANZAHL_PKW        -0.078073\n",
       "GREEN_AVANTGARDE        -0.104577\n",
       "SEMIO_LUST              -0.109666\n",
       "GEBAEUDETYP_RASTER      -0.111338\n",
       "SEMIO_ERL               -0.111788\n",
       "BALLRAUM                -0.119242\n",
       "Life_Stage              -0.125458\n",
       "FINANZ_VORSORGER        -0.141979\n",
       "ALTERSKATEGORIE_GROB    -0.154378\n",
       "INNENSTADT              -0.156165\n",
       "KONSUMNAEHE             -0.157104\n",
       "PLZ8_GBZ                -0.161796\n",
       "KBA05_GBZ               -0.206139\n",
       "PLZ8_ANTG1              -0.214874\n",
       "KBA05_ANTG1             -0.215746\n",
       "FINANZ_MINIMALIST       -0.223033\n",
       "MOBI_REGIO              -0.230956\n",
       "Name: 0, Length: 64, dtype: float64"
      ]
     },
     "execution_count": 67,
     "metadata": {},
     "output_type": "execute_result"
    }
   ],
   "source": [
    "# Map weights for the first principal component to corresponding feature names\n",
    "# and then print the linked values, sorted by weight.\n",
    "# HINT: Try defining a function here or in a new cell that you can reuse in the\n",
    "# other cells.\n",
    "\n",
    "def pca_weight_mapping(pca, component):\n",
    "    mapping = pd.DataFrame(pca.components_, columns = azdias.columns)\n",
    "    weights = mapping.iloc[component]\n",
    "    weights = weights.sort_values(ascending = False)\n",
    "    return weights\n",
    "\n",
    "pca_weight_mapping(pca_updated, component = 0)"
   ]
  },
  {
   "cell_type": "code",
   "execution_count": 68,
   "metadata": {},
   "outputs": [
    {
     "data": {
      "text/plain": [
       "ALTERSKATEGORIE_GROB     0.240459\n",
       "SEMIO_ERL                0.219065\n",
       "FINANZ_VORSORGER         0.209996\n",
       "SEMIO_LUST               0.165686\n",
       "RETOURTYP_BK_S           0.160900\n",
       "FINANZ_HAUSBAUER         0.132901\n",
       "PLZ8_ANTG3               0.124918\n",
       "W_KEIT_KIND_HH           0.120028\n",
       "PLZ8_ANTG4               0.119726\n",
       "SEMIO_KRIT               0.119418\n",
       "EWDICHTE                 0.117916\n",
       "ORTSGR_KLS9              0.117769\n",
       "SEMIO_KAEM               0.113551\n",
       "Wealth                   0.097757\n",
       "ARBEIT                   0.087602\n",
       "KBA05_ANTG4              0.087120\n",
       "ANREDE_KZ                0.086843\n",
       "PLZ8_ANTG2               0.082963\n",
       "RELAT_AB                 0.082257\n",
       "ANZ_HAUSHALTE_AKTIV      0.077223\n",
       "HH_EINKOMMEN_SCORE       0.071942\n",
       "SEMIO_DOM                0.069123\n",
       "KBA05_ANTG3              0.065497\n",
       "WOHNDAUER_2008           0.050861\n",
       "OST_WEST_KZ              0.038235\n",
       "FINANZ_MINIMALIST        0.036069\n",
       "ANZ_HH_TITEL             0.034188\n",
       "REGIOTYP                 0.031820\n",
       "VERS_TYP                 0.030982\n",
       "PLZ8_HHZ                 0.016593\n",
       "                           ...   \n",
       "Life_Stage              -0.020421\n",
       "GREEN_AVANTGARDE        -0.029302\n",
       "MIN_GEBAEUDEJAHR        -0.032407\n",
       "HEALTH_TYP              -0.046782\n",
       "KBA13_ANZAHL_PKW        -0.048300\n",
       "GEBAEUDETYP_RASTER      -0.057038\n",
       "Movement                -0.068951\n",
       "SEMIO_VERT              -0.069329\n",
       "ANZ_PERSONEN            -0.071722\n",
       "BALLRAUM                -0.077942\n",
       "KONSUMNAEHE             -0.088560\n",
       "SEMIO_SOZ               -0.095163\n",
       "PLZ8_GBZ                -0.097276\n",
       "INNENSTADT              -0.097848\n",
       "KBA05_ANTG1             -0.111468\n",
       "KBA05_GBZ               -0.117146\n",
       "MOBI_REGIO              -0.121516\n",
       "PLZ8_ANTG1              -0.123315\n",
       "SEMIO_MAT               -0.142792\n",
       "SEMIO_RAT               -0.158740\n",
       "ONLINE_AFFINITAET       -0.163286\n",
       "SEMIO_FAM               -0.167055\n",
       "FINANZ_ANLEGER          -0.192573\n",
       "SEMIO_KULT              -0.207201\n",
       "FINANZ_SPARER           -0.212842\n",
       "FINANZ_UNAUFFAELLIGER   -0.213824\n",
       "SEMIO_TRADV             -0.215037\n",
       "SEMIO_PFLICHT           -0.221215\n",
       "Decade                  -0.233423\n",
       "SEMIO_REL               -0.246611\n",
       "Name: 1, Length: 64, dtype: float64"
      ]
     },
     "execution_count": 68,
     "metadata": {},
     "output_type": "execute_result"
    }
   ],
   "source": [
    "# Map weights for the second principal component to corresponding feature names\n",
    "# and then print the linked values, sorted by weight.\n",
    "pca_weight_mapping(pca_updated, component = 1)"
   ]
  },
  {
   "cell_type": "code",
   "execution_count": 69,
   "metadata": {},
   "outputs": [
    {
     "data": {
      "text/plain": [
       "SEMIO_VERT               0.349355\n",
       "SEMIO_SOZ                0.264372\n",
       "SEMIO_FAM                0.253300\n",
       "SEMIO_KULT               0.234159\n",
       "FINANZ_MINIMALIST        0.157115\n",
       "RETOURTYP_BK_S           0.114828\n",
       "FINANZ_VORSORGER         0.097250\n",
       "W_KEIT_KIND_HH           0.093712\n",
       "ALTERSKATEGORIE_GROB     0.081043\n",
       "SEMIO_REL                0.078584\n",
       "SEMIO_LUST               0.071462\n",
       "SEMIO_MAT                0.049372\n",
       "GREEN_AVANTGARDE         0.041906\n",
       "PLZ8_ANTG4               0.041699\n",
       "EWDICHTE                 0.041547\n",
       "ORTSGR_KLS9              0.041295\n",
       "PLZ8_ANTG3               0.040811\n",
       "WOHNDAUER_2008           0.034712\n",
       "ARBEIT                   0.029441\n",
       "RELAT_AB                 0.027505\n",
       "KBA05_ANTG4              0.027396\n",
       "PLZ8_ANTG2               0.026603\n",
       "ANZ_HAUSHALTE_AKTIV      0.025281\n",
       "Wealth                   0.024349\n",
       "VERS_TYP                 0.020498\n",
       "ANZ_HH_TITEL             0.013175\n",
       "OST_WEST_KZ              0.012667\n",
       "ANZ_TITEL                0.009246\n",
       "KBA05_ANTG3              0.006528\n",
       "PLZ8_HHZ                 0.004481\n",
       "                           ...   \n",
       "Life_Stage              -0.009098\n",
       "HEALTH_TYP              -0.009314\n",
       "KBA05_ANTG2             -0.011694\n",
       "KKK                     -0.012591\n",
       "KBA13_ANZAHL_PKW        -0.020378\n",
       "KBA05_ANTG1             -0.022126\n",
       "HH_EINKOMMEN_SCORE      -0.022824\n",
       "KBA05_GBZ               -0.025507\n",
       "GEBAEUDETYP_RASTER      -0.028306\n",
       "MOBI_REGIO              -0.028387\n",
       "BALLRAUM                -0.031169\n",
       "KONSUMNAEHE             -0.034696\n",
       "PLZ8_GBZ                -0.034865\n",
       "Movement                -0.037817\n",
       "INNENSTADT              -0.038686\n",
       "PLZ8_ANTG1              -0.041958\n",
       "FINANZ_HAUSBAUER        -0.049347\n",
       "ONLINE_AFFINITAET       -0.056145\n",
       "SEMIO_PFLICHT           -0.075612\n",
       "SEMIO_TRADV             -0.085752\n",
       "FINANZ_UNAUFFAELLIGER   -0.092690\n",
       "FINANZ_SPARER           -0.100064\n",
       "Decade                  -0.106757\n",
       "SEMIO_ERL               -0.171489\n",
       "FINANZ_ANLEGER          -0.184457\n",
       "SEMIO_RAT               -0.218982\n",
       "SEMIO_KRIT              -0.270480\n",
       "SEMIO_DOM               -0.315445\n",
       "SEMIO_KAEM              -0.340297\n",
       "ANREDE_KZ               -0.369858\n",
       "Name: 2, Length: 64, dtype: float64"
      ]
     },
     "execution_count": 69,
     "metadata": {},
     "output_type": "execute_result"
    }
   ],
   "source": [
    "# Map weights for the third principal component to corresponding feature names\n",
    "# and then print the linked values, sorted by weight.\n",
    "\n",
    "pca_weight_mapping(pca_updated, component = 2)"
   ]
  },
  {
   "cell_type": "markdown",
   "metadata": {},
   "source": [
    "### Discussion 2.3: Interpret Principal Components\n",
    "\n",
    "First component: FINANZ_SPARER(financial sparer) has a positive value showing the component is positively associated with this variable while FINANZ_MINIMALIST (financial minimalist) has a negative value showing a negative association. With high positive weights in variables such as FINANZ_SPARER and Wealth, this component increases with these features and these features (Money saver and wealth) vary together. The PLZ8_ANTG3 and PLZ8_ANTG4 have the highest weights showing that this component looks strongly at number of households in communities.\n",
    "\n",
    "Second component: ALTERSKATEGORIE_GROB (age) has a positive value showing the component is positively associated with this variable while SEMIO_REL (religios personality typology) has a negative value showing a negative association. With high positive weights in variables such as ALTERSKATEGORIE_GROB (age) and personality and financial typology variables, this component focuses on variables like age, finances, and personality.\n",
    "\n",
    "Third component: SEMIO_VERT (dreamful personality typology) has a positive value showing the component is positively associated with this variable while ANREDE_KZ (gender) has a negative value showing a negative association. This component focuses heavily on personality typology as most of the SEMIO variables have relatively high positive and relatively low negative weights. The component is associated positvely with personalities like dreamful, social, cultural and family minded while it varies negatively with personalities like combatative, dominant, and critical minded. The ANREDE_KZ (gender) has a very low negative weight showing that this component decreases as gender increases (goes from male to female).  "
   ]
  },
  {
   "cell_type": "markdown",
   "metadata": {},
   "source": [
    "## Step 3: Clustering\n",
    "\n",
    "### Step 3.1: Apply Clustering to General Population\n",
    "\n",
    "You've assessed and cleaned the demographics data, then scaled and transformed them. Now, it's time to see how the data clusters in the principal components space. In this substep, you will apply k-means clustering to the dataset and use the average within-cluster distances from each point to their assigned cluster's centroid to decide on a number of clusters to keep.\n",
    "\n",
    "- Use sklearn's [KMeans](http://scikit-learn.org/stable/modules/generated/sklearn.cluster.KMeans.html#sklearn.cluster.KMeans) class to perform k-means clustering on the PCA-transformed data.\n",
    "- Then, compute the average difference from each point to its assigned cluster's center. **Hint**: The KMeans object's `.score()` method might be useful here, but note that in sklearn, scores tend to be defined so that larger is better. Try applying it to a small, toy dataset, or use an internet search to help your understanding.\n",
    "- Perform the above two steps for a number of different cluster counts. You can then see how the average distance decreases with an increasing number of clusters. However, each additional cluster provides a smaller net benefit. Use this fact to select a final number of clusters in which to group the data. **Warning**: because of the large size of the dataset, it can take a long time for the algorithm to resolve. The more clusters to fit, the longer the algorithm will take. You should test for cluster counts through at least 10 clusters to get the full picture, but you shouldn't need to test for a number of clusters above about 30.\n",
    "- Once you've selected a final number of clusters to use, re-fit a KMeans instance to perform the clustering operation. Make sure that you also obtain the cluster assignments for the general demographics data, since you'll be using them in the final Step 3.3."
   ]
  },
  {
   "cell_type": "code",
   "execution_count": 101,
   "metadata": {},
   "outputs": [],
   "source": [
    "# Over a number of different cluster counts...\n",
    "\n",
    "scores = []\n",
    "#for center in list(range(1, 25, 2)):\n",
    "for center in list(range(1, 15)):\n",
    "    kmeans= KMeans(center)\n",
    "    model = kmeans.fit(azdias_scaled)\n",
    "    scores.append(abs(model.score(azdias_scaled)))\n",
    "\n",
    "    # run k-means clustering on the data and...\n",
    "    \n",
    "    \n",
    "    # compute the average within-cluster distances.\n",
    "    \n",
    "# Note: originally ran from range 1-25 and found optimal k. \n",
    "# When re-running I ran from 1-15 in order to reduce computation time "
   ]
  },
  {
   "cell_type": "code",
   "execution_count": 102,
   "metadata": {},
   "outputs": [
    {
     "data": {
      "text/plain": [
       "Text(0,0.5,'Average Distance From Centroid')"
      ]
     },
     "execution_count": 102,
     "metadata": {},
     "output_type": "execute_result"
    },
    {
     "data": {
      "image/png": "[encoded data removed]",
      "text/plain": [
       "<matplotlib.figure.Figure at 0x7f75842c19e8>"
      ]
     },
     "metadata": {
      "needs_background": "light"
     },
     "output_type": "display_data"
    }
   ],
   "source": [
    "# Investigate the change in within-cluster distance across number of clusters.\n",
    "# HINT: Use matplotlib's plot function to visualize this relationship.\n",
    "#centers = list(range(1,25,2))\n",
    "\n",
    "centers = list(range(1,15))\n",
    "plt.plot(centers, scores)\n",
    "plt.title(\"Scree Plot\")\n",
    "plt.xlabel('Centers')\n",
    "plt.ylabel('Average Distance From Centroid') \n"
   ]
  },
  {
   "cell_type": "code",
   "execution_count": 70,
   "metadata": {},
   "outputs": [],
   "source": [
    "# Re-fit the k-means model with the selected number of clusters and obtain\n",
    "# cluster predictions for the general population demographics data.\n",
    "kmeans_ = KMeans(7)\n",
    "kmeans_model = kmeans_.fit_predict(azdias_pca)\n"
   ]
  },
  {
   "cell_type": "markdown",
   "metadata": {},
   "source": [
    "### Discussion 3.1: Apply Clustering to General Population\n",
    "\n",
    "I decided to cluster the population in 7 segments. This is where the elbow of the curve is located, showing it is the optimal choice for the number of clusters."
   ]
  },
  {
   "cell_type": "markdown",
   "metadata": {},
   "source": [
    "### Step 3.2: Apply All Steps to the Customer Data\n",
    "\n",
    "Now that you have clusters and cluster centers for the general population, it's time to see how the customer data maps on to those clusters. Take care to not confuse this for re-fitting all of the models to the customer data. Instead, you're going to use the fits from the general population to clean, transform, and cluster the customer data. In the last step of the project, you will interpret how the general population fits apply to the customer data.\n",
    "\n",
    "- Don't forget when loading in the customers data, that it is semicolon (`;`) delimited.\n",
    "- Apply the same feature wrangling, selection, and engineering steps to the customer demographics using the `clean_data()` function you created earlier. (You can assume that the customer demographics data has similar meaning behind missing data patterns as the general demographics data.)\n",
    "- Use the sklearn objects from the general demographics data, and apply their transformations to the customers data. That is, you should not be using a `.fit()` or `.fit_transform()` method to re-fit the old objects, nor should you be creating new sklearn objects! Carry the data through the feature scaling, PCA, and clustering steps, obtaining cluster assignments for all of the data in the customer demographics data."
   ]
  },
  {
   "cell_type": "code",
   "execution_count": 71,
   "metadata": {},
   "outputs": [],
   "source": [
    "# Load in the customer demographics data.\n",
    "customers = pd.read_csv('Udacity_CUSTOMERS_Subset.csv', sep = ';')"
   ]
  },
  {
   "cell_type": "code",
   "execution_count": 72,
   "metadata": {},
   "outputs": [],
   "source": [
    "# Apply preprocessing, feature transformation, and clustering from the general\n",
    "# demographics onto the customer data, obtaining cluster predictions for the\n",
    "# customer demographics data.\n",
    "customers_cleaned = clean_data(customers)\n"
   ]
  },
  {
   "cell_type": "code",
   "execution_count": 73,
   "metadata": {},
   "outputs": [
    {
     "name": "stdout",
     "output_type": "stream",
     "text": [
      "<class 'pandas.core.frame.DataFrame'>\n",
      "Int64Index: 115643 entries, 0 to 191651\n",
      "Data columns (total 64 columns):\n",
      "ALTERSKATEGORIE_GROB     115643 non-null float64\n",
      "ANREDE_KZ                115643 non-null int64\n",
      "FINANZ_MINIMALIST        115643 non-null int64\n",
      "FINANZ_SPARER            115643 non-null int64\n",
      "FINANZ_VORSORGER         115643 non-null int64\n",
      "FINANZ_ANLEGER           115643 non-null int64\n",
      "FINANZ_UNAUFFAELLIGER    115643 non-null int64\n",
      "FINANZ_HAUSBAUER         115643 non-null int64\n",
      "GREEN_AVANTGARDE         115643 non-null int64\n",
      "HEALTH_TYP               115643 non-null float64\n",
      "RETOURTYP_BK_S           115643 non-null float64\n",
      "SEMIO_SOZ                115643 non-null int64\n",
      "SEMIO_FAM                115643 non-null int64\n",
      "SEMIO_REL                115643 non-null int64\n",
      "SEMIO_MAT                115643 non-null int64\n",
      "SEMIO_VERT               115643 non-null int64\n",
      "SEMIO_LUST               115643 non-null int64\n",
      "SEMIO_ERL                115643 non-null int64\n",
      "SEMIO_KULT               115643 non-null int64\n",
      "SEMIO_RAT                115643 non-null int64\n",
      "SEMIO_KRIT               115643 non-null int64\n",
      "SEMIO_DOM                115643 non-null int64\n",
      "SEMIO_KAEM               115643 non-null int64\n",
      "SEMIO_PFLICHT            115643 non-null int64\n",
      "SEMIO_TRADV              115643 non-null int64\n",
      "SOHO_KZ                  115643 non-null float64\n",
      "VERS_TYP                 115643 non-null float64\n",
      "ANZ_PERSONEN             115643 non-null float64\n",
      "ANZ_TITEL                115643 non-null float64\n",
      "HH_EINKOMMEN_SCORE       115643 non-null float64\n",
      "W_KEIT_KIND_HH           115643 non-null float64\n",
      "WOHNDAUER_2008           115643 non-null float64\n",
      "ANZ_HAUSHALTE_AKTIV      115643 non-null float64\n",
      "ANZ_HH_TITEL             115643 non-null float64\n",
      "KONSUMNAEHE              115643 non-null float64\n",
      "MIN_GEBAEUDEJAHR         115643 non-null float64\n",
      "OST_WEST_KZ              115643 non-null int64\n",
      "KBA05_ANTG1              115643 non-null float64\n",
      "KBA05_ANTG2              115643 non-null float64\n",
      "KBA05_ANTG3              115643 non-null float64\n",
      "KBA05_ANTG4              115643 non-null float64\n",
      "KBA05_GBZ                115643 non-null float64\n",
      "BALLRAUM                 115643 non-null float64\n",
      "EWDICHTE                 115643 non-null float64\n",
      "INNENSTADT               115643 non-null float64\n",
      "GEBAEUDETYP_RASTER       115643 non-null float64\n",
      "KKK                      115643 non-null float64\n",
      "MOBI_REGIO               115643 non-null float64\n",
      "ONLINE_AFFINITAET        115643 non-null float64\n",
      "REGIOTYP                 115643 non-null float64\n",
      "KBA13_ANZAHL_PKW         115643 non-null float64\n",
      "PLZ8_ANTG1               115643 non-null float64\n",
      "PLZ8_ANTG2               115643 non-null float64\n",
      "PLZ8_ANTG3               115643 non-null float64\n",
      "PLZ8_ANTG4               115643 non-null float64\n",
      "PLZ8_HHZ                 115643 non-null float64\n",
      "PLZ8_GBZ                 115643 non-null float64\n",
      "ARBEIT                   115643 non-null float64\n",
      "ORTSGR_KLS9              115643 non-null float64\n",
      "RELAT_AB                 115643 non-null float64\n",
      "Decade                   115643 non-null float64\n",
      "Movement                 115643 non-null float64\n",
      "Wealth                   115643 non-null object\n",
      "Life_Stage               115643 non-null object\n",
      "dtypes: float64(39), int64(23), object(2)\n",
      "memory usage: 57.3+ MB\n"
     ]
    }
   ],
   "source": [
    "customers_cleaned.info()"
   ]
  },
  {
   "cell_type": "code",
   "execution_count": 121,
   "metadata": {},
   "outputs": [],
   "source": [
    "# drop NA\n",
    "customers_cleaned = customers_cleaned.dropna(axis =0)\n"
   ]
  },
  {
   "cell_type": "code",
   "execution_count": 74,
   "metadata": {},
   "outputs": [],
   "source": [
    "#Scale and PCA\n",
    "customers_scaled = scaler.transform(customers_cleaned)\n",
    "\n",
    "\n",
    "customers_pca = pca_updated.transform(customers_scaled)\n"
   ]
  },
  {
   "cell_type": "code",
   "execution_count": 75,
   "metadata": {},
   "outputs": [],
   "source": [
    "# Cluster predictions\n",
    "\n",
    "customers_predictions = kmeans_.predict(customers_pca)"
   ]
  },
  {
   "cell_type": "markdown",
   "metadata": {},
   "source": [
    "### Step 3.3: Compare Customer Data to Demographics Data\n",
    "\n",
    "At this point, you have clustered data based on demographics of the general population of Germany, and seen how the customer data for a mail-order sales company maps onto those demographic clusters. In this final substep, you will compare the two cluster distributions to see where the strongest customer base for the company is.\n",
    "\n",
    "Consider the proportion of persons in each cluster for the general population, and the proportions for the customers. If we think the company's customer base to be universal, then the cluster assignment proportions should be fairly similar between the two. If there are only particular segments of the population that are interested in the company's products, then we should see a mismatch from one to the other. If there is a higher proportion of persons in a cluster for the customer data compared to the general population (e.g. 5% of persons are assigned to a cluster for the general population, but 15% of the customer data is closest to that cluster's centroid) then that suggests the people in that cluster to be a target audience for the company. On the other hand, the proportion of the data in a cluster being larger in the general population than the customer data (e.g. only 2% of customers closest to a population centroid that captures 6% of the data) suggests that group of persons to be outside of the target demographics.\n",
    "\n",
    "Take a look at the following points in this step:\n",
    "\n",
    "- Compute the proportion of data points in each cluster for the general population and the customer data. Visualizations will be useful here: both for the individual dataset proportions, but also to visualize the ratios in cluster representation between groups. Seaborn's [`countplot()`](https://seaborn.pydata.org/generated/seaborn.countplot.html) or [`barplot()`](https://seaborn.pydata.org/generated/seaborn.barplot.html) function could be handy.\n",
    "  - Recall the analysis you performed in step 1.1.3 of the project, where you separated out certain data points from the dataset if they had more than a specified threshold of missing values. If you found that this group was qualitatively different from the main bulk of the data, you should treat this as an additional data cluster in this analysis. Make sure that you account for the number of data points in this subset, for both the general population and customer datasets, when making your computations!\n",
    "- Which cluster or clusters are overrepresented in the customer dataset compared to the general population? Select at least one such cluster and infer what kind of people might be represented by that cluster. Use the principal component interpretations from step 2.3 or look at additional components to help you make this inference. Alternatively, you can use the `.inverse_transform()` method of the PCA and StandardScaler objects to transform centroids back to the original data space and interpret the retrieved values directly.\n",
    "- Perform a similar investigation for the underrepresented clusters. Which cluster or clusters are underrepresented in the customer dataset compared to the general population, and what kinds of people are typified by these clusters?"
   ]
  },
  {
   "cell_type": "code",
   "execution_count": 76,
   "metadata": {},
   "outputs": [
    {
     "data": {
      "text/plain": [
       "1    17.767337\n",
       "5    17.563073\n",
       "2    14.247502\n",
       "4    14.148017\n",
       "6    13.135840\n",
       "3    12.122540\n",
       "0    11.015691\n",
       "dtype: float64"
      ]
     },
     "execution_count": 76,
     "metadata": {},
     "output_type": "execute_result"
    }
   ],
   "source": [
    "# Compare the proportion of data in each cluster for the customer data to the\n",
    "# proportion of data in each cluster for the general population.\n",
    "\n",
    "Clusters = pd.Series(kmeans_model)\n",
    "Cluster_counts = Clusters.value_counts()\n",
    "Cluster_proportions = Cluster_counts/len(Clusters) * 100\n",
    "Cluster_proportions"
   ]
  },
  {
   "cell_type": "code",
   "execution_count": 77,
   "metadata": {},
   "outputs": [
    {
     "data": {
      "text/plain": [
       "1    52.187335\n",
       "5    19.656183\n",
       "4    12.889669\n",
       "2    10.447671\n",
       "6     2.529336\n",
       "0     1.208893\n",
       "3     1.080913\n",
       "dtype: float64"
      ]
     },
     "execution_count": 77,
     "metadata": {},
     "output_type": "execute_result"
    }
   ],
   "source": [
    "Clusters_customers = pd.Series(customers_predictions)\n",
    "Cluster_counts_customers = Clusters_customers.value_counts()\n",
    "Cluster_proportions_customers = Cluster_counts_customers/len(Clusters_customers) * 100\n",
    "Cluster_proportions_customers"
   ]
  },
  {
   "cell_type": "code",
   "execution_count": 78,
   "metadata": {},
   "outputs": [
    {
     "data": {
      "text/plain": [
       "[Text(0.5,1,'Population Data')]"
      ]
     },
     "execution_count": 78,
     "metadata": {},
     "output_type": "execute_result"
    },
    {
     "data": {
      "image/png": "[encoded data removed]",
      "text/plain": [
       "<matplotlib.figure.Figure at 0x7ff241408ba8>"
      ]
     },
     "metadata": {
      "needs_background": "light"
     },
     "output_type": "display_data"
    }
   ],
   "source": [
    "plt.subplot(1, 2, 1)\n",
    "sns.countplot(customers_predictions).set(title='Customer Data')\n",
    "plt.subplot(1, 2, 2)\n",
    "sns.countplot(kmeans_model).set(title='Population Data')"
   ]
  },
  {
   "cell_type": "code",
   "execution_count": 81,
   "metadata": {},
   "outputs": [],
   "source": [
    "# What kinds of people are part of a cluster that is overrepresented in the\n",
    "# customer data compared to the general population?\n",
    "\n",
    "# cluster 1"
   ]
  },
  {
   "cell_type": "code",
   "execution_count": 82,
   "metadata": {},
   "outputs": [],
   "source": [
    "Centers_1 = scaler.inverse_transform(pca_updated.inverse_transform(kmeans_.cluster_centers_[1]))"
   ]
  },
  {
   "cell_type": "code",
   "execution_count": 83,
   "metadata": {},
   "outputs": [
    {
     "data": {
      "text/plain": [
       "MIN_GEBAEUDEJAHR         1992.698293\n",
       "KBA13_ANZAHL_PKW          682.728282\n",
       "WOHNDAUER_2008              8.429067\n",
       "SEMIO_VERT                  6.033147\n",
       "INNENSTADT                  5.376151\n",
       "SEMIO_LUST                  5.191819\n",
       "SEMIO_KULT                  5.004087\n",
       "SEMIO_SOZ                   4.855190\n",
       "BALLRAUM                    4.793630\n",
       "SEMIO_FAM                   4.674785\n",
       "FINANZ_MINIMALIST           4.648566\n",
       "FINANZ_VORSORGER            4.266150\n",
       "W_KEIT_KIND_HH              4.244503\n",
       "SEMIO_ERL                   4.202133\n",
       "ORTSGR_KLS9                 4.199084\n",
       "MOBI_REGIO                  4.107698\n",
       "KBA05_GBZ                   4.090276\n",
       "REGIOTYP                    4.018700\n",
       "GEBAEUDETYP_RASTER          4.013293\n",
       "PLZ8_GBZ                    3.889772\n",
       "RETOURTYP_BK_S              3.866635\n",
       "SEMIO_REL                   3.762424\n",
       "KONSUMNAEHE                 3.688087\n",
       "Decade                      3.567427\n",
       "PLZ8_HHZ                    3.498113\n",
       "Life_Stage                  3.445609\n",
       "SEMIO_DOM                   3.418362\n",
       "HH_EINKOMMEN_SCORE          3.392995\n",
       "SEMIO_MAT                   3.386351\n",
       "SEMIO_KRIT                  3.380172\n",
       "                            ...     \n",
       "PLZ8_ANTG1                  2.898043\n",
       "ONLINE_AFFINITAET           2.853673\n",
       "ARBEIT                      2.792090\n",
       "SEMIO_RAT                   2.710263\n",
       "KKK                         2.614757\n",
       "RELAT_AB                    2.597675\n",
       "KBA05_ANTG1                 2.596853\n",
       "SEMIO_KAEM                  2.497623\n",
       "PLZ8_ANTG2                  2.397406\n",
       "Wealth                      2.327873\n",
       "ANZ_HAUSHALTE_AKTIV         2.290327\n",
       "HEALTH_TYP                  2.202194\n",
       "FINANZ_HAUSBAUER            2.100869\n",
       "ANZ_PERSONEN                2.074054\n",
       "FINANZ_UNAUFFAELLIGER       1.925981\n",
       "FINANZ_ANLEGER              1.817003\n",
       "FINANZ_SPARER               1.635639\n",
       "VERS_TYP                    1.574416\n",
       "KBA05_ANTG2                 1.159343\n",
       "ANREDE_KZ                   1.055046\n",
       "PLZ8_ANTG3                  0.960315\n",
       "Movement                    0.562783\n",
       "GREEN_AVANTGARDE            0.425352\n",
       "PLZ8_ANTG4                  0.257270\n",
       "OST_WEST_KZ                 0.141025\n",
       "KBA05_ANTG3                 0.115072\n",
       "KBA05_ANTG4                 0.016414\n",
       "ANZ_HH_TITEL                0.010933\n",
       "SOHO_KZ                     0.009361\n",
       "ANZ_TITEL                   0.006055\n",
       "Length: 64, dtype: float64"
      ]
     },
     "execution_count": 83,
     "metadata": {},
     "output_type": "execute_result"
    }
   ],
   "source": [
    "# Map the center's weights back to column names to be able to interpret weights\n",
    "Centers_1 = pd.Series(Centers_1, index = customers_cleaned.columns).sort_values(ascending = False)\n",
    "Centers_1"
   ]
  },
  {
   "cell_type": "code",
   "execution_count": 84,
   "metadata": {},
   "outputs": [],
   "source": [
    "# What kinds of people are part of a cluster that is underrepresented in the\n",
    "# customer data compared to the general population?\n",
    "\n",
    "#cluster 1\n",
    "Centers_3 = scaler.inverse_transform(pca_updated.inverse_transform(kmeans_.cluster_centers_[3]))"
   ]
  },
  {
   "cell_type": "code",
   "execution_count": 85,
   "metadata": {},
   "outputs": [
    {
     "data": {
      "text/plain": [
       "<bound method NDFrame.head of MIN_GEBAEUDEJAHR         1992.356557\n",
       "KBA13_ANZAHL_PKW          546.719417\n",
       "ANZ_HAUSHALTE_AKTIV        13.106669\n",
       "WOHNDAUER_2008              7.253232\n",
       "ORTSGR_KLS9                 6.686225\n",
       "SEMIO_RAT                   6.528702\n",
       "SEMIO_DOM                   6.483821\n",
       "SEMIO_KAEM                  6.219318\n",
       "SEMIO_TRADV                 6.180968\n",
       "SEMIO_PFLICHT               6.159804\n",
       "Decade                      5.664461\n",
       "SEMIO_KRIT                  5.530148\n",
       "HH_EINKOMMEN_SCORE          5.495725\n",
       "SEMIO_REL                   5.374980\n",
       "EWDICHTE                    4.960662\n",
       "SEMIO_MAT                   4.885846\n",
       "REGIOTYP                    4.823565\n",
       "SEMIO_KULT                  4.268292\n",
       "Wealth                      4.208910\n",
       "FINANZ_SPARER               4.180577\n",
       "SEMIO_ERL                   4.151798\n",
       "FINANZ_HAUSBAUER            4.105821\n",
       "FINANZ_ANLEGER              4.050446\n",
       "SEMIO_FAM                   3.960236\n",
       "W_KEIT_KIND_HH              3.893834\n",
       "PLZ8_HHZ                    3.756538\n",
       "FINANZ_UNAUFFAELLIGER       3.702684\n",
       "RELAT_AB                    3.625635\n",
       "INNENSTADT                  3.594639\n",
       "ARBEIT                      3.593232\n",
       "                            ...     \n",
       "SEMIO_SOZ                   3.101827\n",
       "PLZ8_GBZ                    2.876122\n",
       "KKK                         2.851558\n",
       "SEMIO_LUST                  2.710920\n",
       "RETOURTYP_BK_S              2.393734\n",
       "KBA05_GBZ                   2.331422\n",
       "SEMIO_VERT                  2.289081\n",
       "PLZ8_ANTG3                  2.261216\n",
       "KONSUMNAEHE                 2.242402\n",
       "Life_Stage                  2.236750\n",
       "HEALTH_TYP                  2.192503\n",
       "FINANZ_VORSORGER            2.178494\n",
       "ANREDE_KZ                   2.015629\n",
       "MOBI_REGIO                  1.967208\n",
       "PLZ8_ANTG1                  1.624185\n",
       "ALTERSKATEGORIE_GROB        1.564075\n",
       "ANZ_PERSONEN                1.559686\n",
       "VERS_TYP                    1.443256\n",
       "KBA05_ANTG2                 1.420393\n",
       "FINANZ_MINIMALIST           1.275779\n",
       "PLZ8_ANTG4                  1.149330\n",
       "KBA05_ANTG3                 1.107769\n",
       "Movement                    0.913565\n",
       "KBA05_ANTG1                 0.538220\n",
       "KBA05_ANTG4                 0.530451\n",
       "OST_WEST_KZ                 0.262796\n",
       "GREEN_AVANTGARDE            0.051096\n",
       "ANZ_HH_TITEL                0.049411\n",
       "SOHO_KZ                     0.008103\n",
       "ANZ_TITEL                   0.001567\n",
       "Length: 64, dtype: float64>"
      ]
     },
     "execution_count": 85,
     "metadata": {},
     "output_type": "execute_result"
    }
   ],
   "source": [
    "Centers_3 = pd.Series(Centers_3, index = customers_cleaned.columns).sort_values(ascending = False)\n",
    "Centers_3.head"
   ]
  },
  {
   "cell_type": "markdown",
   "metadata": {},
   "source": [
    "### Discussion 3.3: Compare Customer Data to Demographics Data\n",
    "\n",
    "Cluster 1 is overrepresented in the customer data, while cluster 3 is underrepresented in the customer data. In the population data, Cluster 1 makes up 17.77% of the data and makes up 52.19% of the data in the customer data, showing this cluster is popualr with the company. In the population data, Cluster 3 makes up 12.12% of the data while only making up 1.08% of the customer data showing it is unpopular with the company. \n",
    "\n",
    "Cluster 1 is made up of....  \n",
    "- Life stage (3.45): Families with school age children\n",
    "- Wealth (2.33): Prosperous Households\n",
    "- RETOURTYP_BK_S (3.87): conservative Low-Returner\n",
    "- SEMIO_VERT (6.03), SEMIO_LUST (5.19), SEMIO_KULT (5.00), SEMIO_SOZ (4.86), SEMIO_FAM (4.67): dreamful, sensual oriented, cultural minded, socially minded, and family minded\n",
    "- BALLRAUM (4.79): about 40-50km from closest urban center\n",
    "- FINANZ_MINIMALIST (4.65) and FINANZ_VORSORGER (4.27): low financial interest and prepared financially\n",
    "\n",
    "Cluster 3 is made up of....\n",
    "- Life stage (2.24): Young Couples With Children\n",
    "- Wealth (4.21): Less Affluent Households\n",
    "- ANREDE_KZ (2.02): Majority females\n",
    "- RETOURTYP_BK_S (4.54): conservative Low-Returner/determined Minimal-Returner\n",
    "- SEMIO_RAT (6.53), SEMIO_DOM (6.48), SEMIO_KAEM (6.22), SEMIO_TRADV (6.18), SEMIO_PFLICHT (6.16) : rational, dominant, combatative, traditional, dutiful\n",
    "- ALTERSKATEGORIE_GROB (1.56): > 60 years old\n",
    "- FINANZ_SPARER (4.18): money saver"
   ]
  },
  {
   "cell_type": "markdown",
   "metadata": {},
   "source": [
    "> Congratulations on making it this far in the project! Before you finish, make sure to check through the entire notebook from top to bottom to make sure that your analysis follows a logical flow and all of your findings are documented in **Discussion** cells. Once you've checked over all of your work, you should export the notebook as an HTML document to submit for evaluation. You can do this from the menu, navigating to **File -> Download as -> HTML (.html)**. You will submit both that document and this notebook for your project submission."
   ]
  }
 ],
 "metadata": {
  "kernelspec": {
   "display_name": "Python 3",
   "language": "python",
   "name": "python3"
  },
  "language_info": {
   "codemirror_mode": {
    "name": "ipython",
    "version": 3
   },
   "file_extension": ".py",
   "mimetype": "text/x-python",
   "name": "python",
   "nbconvert_exporter": "python",
   "pygments_lexer": "ipython3",
   "version": "3.6.3"
  }
 },
 "nbformat": 4,
 "nbformat_minor": 2
}
